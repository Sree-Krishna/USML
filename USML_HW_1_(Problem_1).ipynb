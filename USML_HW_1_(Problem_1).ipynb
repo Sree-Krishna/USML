{
  "cells": [
    {
      "cell_type": "markdown",
      "metadata": {
        "id": "xX7i65-Nt_t8"
      },
      "source": [
        "PROBLEM 1: Aminer : basic dataset analysis"
      ]
    },
    {
      "cell_type": "code",
      "execution_count": 1,
      "metadata": {
        "colab": {
          "base_uri": "https://localhost:8080/"
        },
        "id": "3V1XgrmBt8vF",
        "outputId": "69aab1fc-90b0-4941-f45e-72e03216dc6e"
      },
      "outputs": [
        {
          "output_type": "stream",
          "name": "stdout",
          "text": [
            "Collecting wget\n",
            "  Downloading wget-3.2.zip (10 kB)\n",
            "Building wheels for collected packages: wget\n",
            "  Building wheel for wget (setup.py) ... \u001b[?25l\u001b[?25hdone\n",
            "  Created wheel for wget: filename=wget-3.2-py3-none-any.whl size=9675 sha256=8f148265b0edf0ba917d6a7f367e404015ad52236bef0cb883d510927aff6f03\n",
            "  Stored in directory: /root/.cache/pip/wheels/a1/b6/7c/0e63e34eb06634181c63adacca38b79ff8f35c37e3c13e3c02\n",
            "Successfully built wget\n",
            "Installing collected packages: wget\n",
            "Successfully installed wget-3.2\n"
          ]
        }
      ],
      "source": [
        "pip install wget "
      ]
    },
    {
      "cell_type": "code",
      "execution_count": 2,
      "metadata": {
        "id": "XPWF-1kpzUB7"
      },
      "outputs": [],
      "source": [
        "import wget\n",
        "import pandas as pd\n",
        "import numpy as np\n",
        "import collections\n",
        "import matplotlib.pyplot as plt"
      ]
    },
    {
      "cell_type": "code",
      "execution_count": 3,
      "metadata": {
        "colab": {
          "base_uri": "https://localhost:8080/"
        },
        "id": "LqbxUGDHuT40",
        "outputId": "7a4cfa2d-9b95-4117-9835-9f5d79528ad8"
      },
      "outputs": [
        {
          "output_type": "stream",
          "name": "stdout",
          "text": [
            "Archive:  acm.v9.zip\n",
            "  inflating: acm.txt                 \n"
          ]
        }
      ],
      "source": [
        "url = 'https://lfs.aminer.cn/lab-datasets/citation/acm.v9.zip'\n",
        "wget.download(url)\n",
        "!unzip acm.v9.zip"
      ]
    },
    {
      "cell_type": "markdown",
      "source": [
        "A) Compute the number of distinct authors, publication venues, publications, and citations/references"
      ],
      "metadata": {
        "id": "FbBe4s3Uf7nE"
      }
    },
    {
      "cell_type": "code",
      "source": [
        "authors = []\n",
        "venues = []\n",
        "publications = []\n",
        "references = []\n",
        "\n",
        "with open(\"acm.txt\", 'r+', newline = '') as f:\n",
        "    for each in f:        \n",
        "        if each.startswith(\"#@\"):\n",
        "          for i in each[3:].split(';'):\n",
        "            authors.append(i.strip())\n",
        "        elif each.startswith(\"#c\"):\n",
        "          venues.append(each)\n",
        "        elif each.startswith(\"#index\"):\n",
        "          temp = each[7:]\n",
        "          publications.append(each)\n",
        "        elif each.startswith(\"#%\"):\n",
        "          references.append(each + temp)\n",
        "\n",
        "authors = list(set(authors))\n",
        "venues = list(set(venues))\n",
        "pubs = list(set(publications))\n",
        "refs = list(set(references))\n",
        "\n",
        "key = ['Authors', 'Venues', 'Publications', 'References']\n",
        "value = [len(authors), len(venues), len(publications), len(references)]\n",
        "distinct = pd.DataFrame({'Type':key, 'Count':value})\n",
        "distinct"
      ],
      "metadata": {
        "id": "p0hkImKw-r50",
        "colab": {
          "base_uri": "https://localhost:8080/",
          "height": 175
        },
        "outputId": "ac9aa29d-18e4-42da-8f75-96ed0748cdad"
      },
      "execution_count": 4,
      "outputs": [
        {
          "output_type": "execute_result",
          "data": {
            "text/plain": [
              "           Type    Count\n",
              "0       Authors  1662167\n",
              "1        Venues   273329\n",
              "2  Publications  2385066\n",
              "3    References  9671893"
            ],
            "text/html": [
              "\n",
              "  <div id=\"df-fa6f8eae-683e-4699-888a-1805f2a2adda\">\n",
              "    <div class=\"colab-df-container\">\n",
              "      <div>\n",
              "<style scoped>\n",
              "    .dataframe tbody tr th:only-of-type {\n",
              "        vertical-align: middle;\n",
              "    }\n",
              "\n",
              "    .dataframe tbody tr th {\n",
              "        vertical-align: top;\n",
              "    }\n",
              "\n",
              "    .dataframe thead th {\n",
              "        text-align: right;\n",
              "    }\n",
              "</style>\n",
              "<table border=\"1\" class=\"dataframe\">\n",
              "  <thead>\n",
              "    <tr style=\"text-align: right;\">\n",
              "      <th></th>\n",
              "      <th>Type</th>\n",
              "      <th>Count</th>\n",
              "    </tr>\n",
              "  </thead>\n",
              "  <tbody>\n",
              "    <tr>\n",
              "      <th>0</th>\n",
              "      <td>Authors</td>\n",
              "      <td>1662167</td>\n",
              "    </tr>\n",
              "    <tr>\n",
              "      <th>1</th>\n",
              "      <td>Venues</td>\n",
              "      <td>273329</td>\n",
              "    </tr>\n",
              "    <tr>\n",
              "      <th>2</th>\n",
              "      <td>Publications</td>\n",
              "      <td>2385066</td>\n",
              "    </tr>\n",
              "    <tr>\n",
              "      <th>3</th>\n",
              "      <td>References</td>\n",
              "      <td>9671893</td>\n",
              "    </tr>\n",
              "  </tbody>\n",
              "</table>\n",
              "</div>\n",
              "      <button class=\"colab-df-convert\" onclick=\"convertToInteractive('df-fa6f8eae-683e-4699-888a-1805f2a2adda')\"\n",
              "              title=\"Convert this dataframe to an interactive table.\"\n",
              "              style=\"display:none;\">\n",
              "        \n",
              "  <svg xmlns=\"http://www.w3.org/2000/svg\" height=\"24px\"viewBox=\"0 0 24 24\"\n",
              "       width=\"24px\">\n",
              "    <path d=\"M0 0h24v24H0V0z\" fill=\"none\"/>\n",
              "    <path d=\"M18.56 5.44l.94 2.06.94-2.06 2.06-.94-2.06-.94-.94-2.06-.94 2.06-2.06.94zm-11 1L8.5 8.5l.94-2.06 2.06-.94-2.06-.94L8.5 2.5l-.94 2.06-2.06.94zm10 10l.94 2.06.94-2.06 2.06-.94-2.06-.94-.94-2.06-.94 2.06-2.06.94z\"/><path d=\"M17.41 7.96l-1.37-1.37c-.4-.4-.92-.59-1.43-.59-.52 0-1.04.2-1.43.59L10.3 9.45l-7.72 7.72c-.78.78-.78 2.05 0 2.83L4 21.41c.39.39.9.59 1.41.59.51 0 1.02-.2 1.41-.59l7.78-7.78 2.81-2.81c.8-.78.8-2.07 0-2.86zM5.41 20L4 18.59l7.72-7.72 1.47 1.35L5.41 20z\"/>\n",
              "  </svg>\n",
              "      </button>\n",
              "      \n",
              "  <style>\n",
              "    .colab-df-container {\n",
              "      display:flex;\n",
              "      flex-wrap:wrap;\n",
              "      gap: 12px;\n",
              "    }\n",
              "\n",
              "    .colab-df-convert {\n",
              "      background-color: #E8F0FE;\n",
              "      border: none;\n",
              "      border-radius: 50%;\n",
              "      cursor: pointer;\n",
              "      display: none;\n",
              "      fill: #1967D2;\n",
              "      height: 32px;\n",
              "      padding: 0 0 0 0;\n",
              "      width: 32px;\n",
              "    }\n",
              "\n",
              "    .colab-df-convert:hover {\n",
              "      background-color: #E2EBFA;\n",
              "      box-shadow: 0px 1px 2px rgba(60, 64, 67, 0.3), 0px 1px 3px 1px rgba(60, 64, 67, 0.15);\n",
              "      fill: #174EA6;\n",
              "    }\n",
              "\n",
              "    [theme=dark] .colab-df-convert {\n",
              "      background-color: #3B4455;\n",
              "      fill: #D2E3FC;\n",
              "    }\n",
              "\n",
              "    [theme=dark] .colab-df-convert:hover {\n",
              "      background-color: #434B5C;\n",
              "      box-shadow: 0px 1px 3px 1px rgba(0, 0, 0, 0.15);\n",
              "      filter: drop-shadow(0px 1px 2px rgba(0, 0, 0, 0.3));\n",
              "      fill: #FFFFFF;\n",
              "    }\n",
              "  </style>\n",
              "\n",
              "      <script>\n",
              "        const buttonEl =\n",
              "          document.querySelector('#df-fa6f8eae-683e-4699-888a-1805f2a2adda button.colab-df-convert');\n",
              "        buttonEl.style.display =\n",
              "          google.colab.kernel.accessAllowed ? 'block' : 'none';\n",
              "\n",
              "        async function convertToInteractive(key) {\n",
              "          const element = document.querySelector('#df-fa6f8eae-683e-4699-888a-1805f2a2adda');\n",
              "          const dataTable =\n",
              "            await google.colab.kernel.invokeFunction('convertToInteractive',\n",
              "                                                     [key], {});\n",
              "          if (!dataTable) return;\n",
              "\n",
              "          const docLinkHtml = 'Like what you see? Visit the ' +\n",
              "            '<a target=\"_blank\" href=https://colab.research.google.com/notebooks/data_table.ipynb>data table notebook</a>'\n",
              "            + ' to learn more about interactive tables.';\n",
              "          element.innerHTML = '';\n",
              "          dataTable['output_type'] = 'display_data';\n",
              "          await google.colab.output.renderOutput(dataTable, element);\n",
              "          const docLink = document.createElement('div');\n",
              "          docLink.innerHTML = docLinkHtml;\n",
              "          element.appendChild(docLink);\n",
              "        }\n",
              "      </script>\n",
              "    </div>\n",
              "  </div>\n",
              "  "
            ]
          },
          "metadata": {},
          "execution_count": 4
        }
      ]
    },
    {
      "cell_type": "markdown",
      "source": [
        "B) Are these numbers likely to be accurate? As an example look up all the publications venue names associated with the conference “Principles and Practice of Knowledge Discovery in Databases”13 – what do you notice?"
      ],
      "metadata": {
        "id": "Tn-3htUanJWr"
      }
    },
    {
      "cell_type": "code",
      "source": [
        "venue = []\n",
        "\n",
        "with open(\"acm.txt\", 'r+', newline = '') as f:\n",
        "  for text in f:\n",
        "    if text.startswith(\"#c\"):\n",
        "      if \"Principles and Practice of Knowledge Discovery in Databases\" in each:\n",
        "        venue.append(text[2:])\n",
        "print(\"Associated Venue Names:\")\n",
        "for v in list(set(venue)):\n",
        "  print(v)"
      ],
      "metadata": {
        "colab": {
          "base_uri": "https://localhost:8080/"
        },
        "id": "cbufRYgknD2F",
        "outputId": "7689fb92-e4f4-4323-c74e-c94556bfcb2f"
      },
      "execution_count": null,
      "outputs": [
        {
          "output_type": "stream",
          "name": "stdout",
          "text": [
            "Publication venue names associated with the given conference are:\n",
            "PKDD 2007 Proceedings of the 11th European conference on Principles and Practice of Knowledge Discovery in Databases\n",
            "\n",
            "PKDD '04 Proceedings of the 8th European Conference on Principles and Practice of Knowledge Discovery in Databases\n",
            "\n",
            "Knowledge Discovery in Databases: PKDD 2005: 9th European Conference on Principles and Practice of Knowledge Discovery in Databases, Porto, Portugal, October ... / Lecture Notes in Artificial Intelligence)\n",
            "\n",
            "PKDD'05 Proceedings of the 9th European conference on Principles and Practice of Knowledge Discovery in Databases\n",
            "\n",
            "Knowledge Discovery in Databases: PKDD 2006: 10th European Conference on Principles and Practice of Knowledge Discovery in Databases, Berlin, Germany, September ... (Lecture Notes in Computer Science)\n",
            "\n"
          ]
        }
      ]
    },
    {
      "cell_type": "markdown",
      "source": [
        "The count values is not accurate as they are not consistent throughout the text dataset. There are different venue names for the same conference which will result in wrong manipulation.  "
      ],
      "metadata": {
        "id": "YHIvps98rLt_"
      }
    },
    {
      "cell_type": "markdown",
      "source": [
        "C) For each author, construct the list of publications. Plot a histogram of the number of publications per author (use a logarithmic scale on the y axis)"
      ],
      "metadata": {
        "id": "Ft2opJewsKgS"
      }
    },
    {
      "cell_type": "code",
      "source": [
        "pub_authors = {}\n",
        "with open(\"acm.txt\", 'r+', newline = '') as f:\n",
        "   for text in f:\n",
        "     if text.startswith(\"#@\"):\n",
        "       for i in text[2:].split(';'):\n",
        "         if pub_authors.get(i.strip()) == None:\n",
        "           pub_authors[i.strip()] = 1\n",
        "         else:\n",
        "           pub_authors[i.strip()] += 1\n",
        "\n",
        "publications = list(pub_authors.values())\n",
        "authors = list(pub_authors.keys())\n",
        "del publications[authors.index(\"\")]\n",
        "del authors[authors.index(\"\")]\n",
        "plt.hist(pubs, bins = 30, log = True)\n",
        "plt.xlabel('Authors')\n",
        "plt.ylabel('Number of publications')\n",
        "plt.title('Authors Vs Publications')\n",
        "plt.show()"
      ],
      "metadata": {
        "id": "sAfkzluGq1eM"
      },
      "execution_count": null,
      "outputs": []
    },
    {
      "cell_type": "markdown",
      "source": [
        "D) Calculate the mean and standard deviation of the number of publications per author. Also calculate the Q1 (1st quartile14), Q2 (2nd quartile, or median) and Q3 (3rd quartile) values. Compare the median to the mean and explain the difference between the two values based on the standard deviation and the 1st and 3rd quartiles."
      ],
      "metadata": {
        "id": "jGoFpp165RXA"
      }
    },
    {
      "cell_type": "code",
      "source": [
        "mean_pub = np.mean(publications)\n",
        "std_pub = np.std(publications)\n",
        "q1 = np.percentile(publications, 25)\n",
        "median_pub = np.percentile(publications, 50)\n",
        "q3 = np.percentile(publications, 75)\n",
        "measure = ['Mean', 'Std', 'Q1', 'Q2/Median', 'Q3']\n",
        "count = [mean_pub, std_pub, q1, median_pub, q3]\n",
        "qty = pd.DataFrame({'Measure':measure, 'Count':count})\n",
        "qty"
      ],
      "metadata": {
        "colab": {
          "base_uri": "https://localhost:8080/",
          "height": 206
        },
        "id": "f36v0ksF3EsN",
        "outputId": "d363d1d6-3377-46ad-938f-a6211ee5514c"
      },
      "execution_count": null,
      "outputs": [
        {
          "output_type": "execute_result",
          "data": {
            "text/plain": [
              "     Type     Count\n",
              "0    Mean  1.343925\n",
              "1     Std  2.590153\n",
              "2      Q1  1.000000\n",
              "3  Median  1.000000\n",
              "4      Q3  1.000000"
            ],
            "text/html": [
              "\n",
              "  <div id=\"df-6921c85d-9a04-4fe4-be33-8d6e6353a278\">\n",
              "    <div class=\"colab-df-container\">\n",
              "      <div>\n",
              "<style scoped>\n",
              "    .dataframe tbody tr th:only-of-type {\n",
              "        vertical-align: middle;\n",
              "    }\n",
              "\n",
              "    .dataframe tbody tr th {\n",
              "        vertical-align: top;\n",
              "    }\n",
              "\n",
              "    .dataframe thead th {\n",
              "        text-align: right;\n",
              "    }\n",
              "</style>\n",
              "<table border=\"1\" class=\"dataframe\">\n",
              "  <thead>\n",
              "    <tr style=\"text-align: right;\">\n",
              "      <th></th>\n",
              "      <th>Type</th>\n",
              "      <th>Count</th>\n",
              "    </tr>\n",
              "  </thead>\n",
              "  <tbody>\n",
              "    <tr>\n",
              "      <th>0</th>\n",
              "      <td>Mean</td>\n",
              "      <td>1.343925</td>\n",
              "    </tr>\n",
              "    <tr>\n",
              "      <th>1</th>\n",
              "      <td>Std</td>\n",
              "      <td>2.590153</td>\n",
              "    </tr>\n",
              "    <tr>\n",
              "      <th>2</th>\n",
              "      <td>Q1</td>\n",
              "      <td>1.000000</td>\n",
              "    </tr>\n",
              "    <tr>\n",
              "      <th>3</th>\n",
              "      <td>Median</td>\n",
              "      <td>1.000000</td>\n",
              "    </tr>\n",
              "    <tr>\n",
              "      <th>4</th>\n",
              "      <td>Q3</td>\n",
              "      <td>1.000000</td>\n",
              "    </tr>\n",
              "  </tbody>\n",
              "</table>\n",
              "</div>\n",
              "      <button class=\"colab-df-convert\" onclick=\"convertToInteractive('df-6921c85d-9a04-4fe4-be33-8d6e6353a278')\"\n",
              "              title=\"Convert this dataframe to an interactive table.\"\n",
              "              style=\"display:none;\">\n",
              "        \n",
              "  <svg xmlns=\"http://www.w3.org/2000/svg\" height=\"24px\"viewBox=\"0 0 24 24\"\n",
              "       width=\"24px\">\n",
              "    <path d=\"M0 0h24v24H0V0z\" fill=\"none\"/>\n",
              "    <path d=\"M18.56 5.44l.94 2.06.94-2.06 2.06-.94-2.06-.94-.94-2.06-.94 2.06-2.06.94zm-11 1L8.5 8.5l.94-2.06 2.06-.94-2.06-.94L8.5 2.5l-.94 2.06-2.06.94zm10 10l.94 2.06.94-2.06 2.06-.94-2.06-.94-.94-2.06-.94 2.06-2.06.94z\"/><path d=\"M17.41 7.96l-1.37-1.37c-.4-.4-.92-.59-1.43-.59-.52 0-1.04.2-1.43.59L10.3 9.45l-7.72 7.72c-.78.78-.78 2.05 0 2.83L4 21.41c.39.39.9.59 1.41.59.51 0 1.02-.2 1.41-.59l7.78-7.78 2.81-2.81c.8-.78.8-2.07 0-2.86zM5.41 20L4 18.59l7.72-7.72 1.47 1.35L5.41 20z\"/>\n",
              "  </svg>\n",
              "      </button>\n",
              "      \n",
              "  <style>\n",
              "    .colab-df-container {\n",
              "      display:flex;\n",
              "      flex-wrap:wrap;\n",
              "      gap: 12px;\n",
              "    }\n",
              "\n",
              "    .colab-df-convert {\n",
              "      background-color: #E8F0FE;\n",
              "      border: none;\n",
              "      border-radius: 50%;\n",
              "      cursor: pointer;\n",
              "      display: none;\n",
              "      fill: #1967D2;\n",
              "      height: 32px;\n",
              "      padding: 0 0 0 0;\n",
              "      width: 32px;\n",
              "    }\n",
              "\n",
              "    .colab-df-convert:hover {\n",
              "      background-color: #E2EBFA;\n",
              "      box-shadow: 0px 1px 2px rgba(60, 64, 67, 0.3), 0px 1px 3px 1px rgba(60, 64, 67, 0.15);\n",
              "      fill: #174EA6;\n",
              "    }\n",
              "\n",
              "    [theme=dark] .colab-df-convert {\n",
              "      background-color: #3B4455;\n",
              "      fill: #D2E3FC;\n",
              "    }\n",
              "\n",
              "    [theme=dark] .colab-df-convert:hover {\n",
              "      background-color: #434B5C;\n",
              "      box-shadow: 0px 1px 3px 1px rgba(0, 0, 0, 0.15);\n",
              "      filter: drop-shadow(0px 1px 2px rgba(0, 0, 0, 0.3));\n",
              "      fill: #FFFFFF;\n",
              "    }\n",
              "  </style>\n",
              "\n",
              "      <script>\n",
              "        const buttonEl =\n",
              "          document.querySelector('#df-6921c85d-9a04-4fe4-be33-8d6e6353a278 button.colab-df-convert');\n",
              "        buttonEl.style.display =\n",
              "          google.colab.kernel.accessAllowed ? 'block' : 'none';\n",
              "\n",
              "        async function convertToInteractive(key) {\n",
              "          const element = document.querySelector('#df-6921c85d-9a04-4fe4-be33-8d6e6353a278');\n",
              "          const dataTable =\n",
              "            await google.colab.kernel.invokeFunction('convertToInteractive',\n",
              "                                                     [key], {});\n",
              "          if (!dataTable) return;\n",
              "\n",
              "          const docLinkHtml = 'Like what you see? Visit the ' +\n",
              "            '<a target=\"_blank\" href=https://colab.research.google.com/notebooks/data_table.ipynb>data table notebook</a>'\n",
              "            + ' to learn more about interactive tables.';\n",
              "          element.innerHTML = '';\n",
              "          dataTable['output_type'] = 'display_data';\n",
              "          await google.colab.output.renderOutput(dataTable, element);\n",
              "          const docLink = document.createElement('div');\n",
              "          docLink.innerHTML = docLinkHtml;\n",
              "          element.appendChild(docLink);\n",
              "        }\n",
              "      </script>\n",
              "    </div>\n",
              "  </div>\n",
              "  "
            ]
          },
          "metadata": {},
          "execution_count": 39
        }
      ]
    },
    {
      "cell_type": "markdown",
      "source": [
        "The number of publications associated with an author is mostly 1. The values found above show the same. The median or Q2 is 1 while mean is 1.34 with std 2.59 this shows the median, Q1 and Q2 lies in the range of std from mean"
      ],
      "metadata": {
        "id": "RfJtTqoS_KEy"
      }
    },
    {
      "cell_type": "markdown",
      "source": [
        "E) Now plot a histogram of the number of publications per venue, as well as calculate the mean, standard deviation, median, Q1, and Q3 values. What is the venue with the largest number of publications in the dataset?"
      ],
      "metadata": {
        "id": "SQCjUv9w_izA"
      }
    },
    {
      "cell_type": "code",
      "source": [
        "pub_venues = {}\n",
        "with open(\"acm.txt\", 'r+', newline = '') as f:\n",
        "   for text in f:\n",
        "     if text.startswith(\"#c\"): \n",
        "       if pub_venues.get(text[2:]) == None:\n",
        "         pub_venues[text[2:]] = 1\n",
        "       else:\n",
        "         pub_venues[text[2:]] += 1\n",
        "\n",
        "pubication_ven = list(pub_venues.values())\n",
        "venues = list(pub_venues.keys())\n",
        "plt.hist(pubication_ven, bins = 30, log = True)\n",
        "plt.xlabel('Venues')\n",
        "plt.ylabel('Number of publications')\n",
        "plt.title('Venues Vs Publications')\n",
        "plt.show()"
      ],
      "metadata": {
        "id": "1OTRFc509atV"
      },
      "execution_count": null,
      "outputs": []
    },
    {
      "cell_type": "code",
      "source": [
        "mean = np.mean(pubication_ven)\n",
        "std = np.std(pubication_ven)\n",
        "q1 = np.percentile(pubication_ven, 25)\n",
        "median = np.percentile(pubication_ven, 50)\n",
        "q3 = np.percentile(pubication_ven, 75)\n",
        "measures = ['Mean', 'Std', 'Q1', 'Q2/Median', 'Q3']\n",
        "count = [mean, std, q1, median, q3]\n",
        "qty = pd.DataFrame({'Type':measures, 'Count':count})\n",
        "qty"
      ],
      "metadata": {
        "id": "Dvuh2cHGBJVh"
      },
      "execution_count": null,
      "outputs": []
    },
    {
      "cell_type": "code",
      "source": [
        "print(\"Venue with largest no. of publications:\",venues[list(pubication_ven.values()).index(max(pubication_ven.values()))])"
      ],
      "metadata": {
        "id": "lfHbMbJgBrm5"
      },
      "execution_count": null,
      "outputs": []
    },
    {
      "cell_type": "markdown",
      "source": [
        "F) Plot a histogram of the number of references (number of publications a publication refers to) and citations (number of publications referring to a publication) per publication. What is the publication with the largest number of references? What is the publication with the largest number of citations? Do these make sense?"
      ],
      "metadata": {
        "id": "oR3rlDxyJDQn"
      }
    },
    {
      "cell_type": "code",
      "source": [
        "publs = {}\n",
        "cits = {}\n",
        "cv_cnt = {}\n",
        "refs = {}\n",
        "\n",
        "with open('acm.txt', 'r', newline = '') as f:\n",
        "  for each in f: \n",
        "    t = 0\n",
        "    for each in f:\n",
        "      if each.startswith(\"#index\"):\n",
        "        t = int(each[6:])\n",
        "      elif each.startswith(\"#c\"):\n",
        "        temp = each[2:]\n",
        "        if publs.get(t) == None:\n",
        "          publs[t] = temp\n",
        "      elif each.startswith(\"#%\"):\n",
        "        if refs.get(t) == None:\n",
        "          refs[t] = 1\n",
        "        else:\n",
        "          refs[t] += 1\n",
        "\n",
        "        if cits.get(int(each[2:])) == None:\n",
        "          cits[int(each[2:])] = 1\n",
        "        else: \n",
        "          cits[int(each[2:])] += 1\n",
        "        \n",
        "        cv = publs.get(int(each[2:]))\n",
        "        if cv_cnt.get(cv) == None:\n",
        "          cv_cnt[cv] = 1\n",
        "        else:\n",
        "          cv_cnt[cv] += 1"
      ],
      "metadata": {
        "id": "fS0q-4ofyHQm"
      },
      "execution_count": null,
      "outputs": []
    },
    {
      "cell_type": "code",
      "source": [
        "refs_keys = list(refs.keys())\n",
        "cits_keys = list(cits.keys())\n",
        "refs_values = list(refs.values())\n",
        "cits_values = list(cits.values())\n",
        "max_ref = max(list(refs.values()))\n",
        "max_cit = max(list(cits.values())) \n",
        "print(\"Maximum References:{0}, Publication Index:{1}\".format(max_ref, refs_keys[refs_values.index(max_ref)]))\n",
        "print(\"Maximum Citations:{0}, Publication Index:{1}\".format(max_cit, cits_keys[cits_values.index(max_cit)]))"
      ],
      "metadata": {
        "colab": {
          "base_uri": "https://localhost:8080/"
        },
        "id": "dnHLvhTYDnK-",
        "outputId": "b396f11b-03ef-4428-a4f7-12150504307e"
      },
      "execution_count": null,
      "outputs": [
        {
          "output_type": "stream",
          "name": "stdout",
          "text": [
            "Maximum References:809, Publication Index:2015217\n",
            "Maximum Citations:938039, Publication Index:2135000\n"
          ]
        }
      ]
    },
    {
      "cell_type": "code",
      "source": [
        "plt.title('Number of References')\n",
        "plt.hist(list(refs.values()), bins = 20, log=True, color = 'green')\n",
        "plt.show()"
      ],
      "metadata": {
        "colab": {
          "base_uri": "https://localhost:8080/",
          "height": 281
        },
        "id": "FG3Y0xspEA7g",
        "outputId": "2f9d0ff4-944c-435e-e6a1-994a6b6b8413"
      },
      "execution_count": null,
      "outputs": [
        {
          "output_type": "display_data",
          "data": {
            "text/plain": [
              "<Figure size 432x288 with 1 Axes>"
            ],
            "image/png": "[encoded data removed]"
          },
          "metadata": {
            "needs_background": "light"
          }
        }
      ]
    },
    {
      "cell_type": "code",
      "source": [
        "plt.title('Number of Citations')\n",
        "plt.hist(list(cits.values()), bins = 25, log = True, color = 'green')\n",
        "plt.show()"
      ],
      "metadata": {
        "colab": {
          "base_uri": "https://localhost:8080/",
          "height": 281
        },
        "id": "GbVstycgGS1M",
        "outputId": "f24fc068-fc69-4672-b28f-f7c545e675f1"
      },
      "execution_count": null,
      "outputs": [
        {
          "output_type": "display_data",
          "data": {
            "text/plain": [
              "<Figure size 432x288 with 1 Axes>"
            ],
            "image/png": "[encoded data removed]"
          },
          "metadata": {
            "needs_background": "light"
          }
        }
      ]
    },
    {
      "cell_type": "markdown",
      "source": [
        "F. The number of citations and references associated with a publication should almost be equal which is the case here."
      ],
      "metadata": {
        "id": "6WRcAsz-Dhif"
      }
    },
    {
      "cell_type": "markdown",
      "source": [
        "G) Calculate the so called “impact” factor for each venue. To do so, calculate the total number of citations for the publications in the venue, and then divide this number by the number of publications for the venue. Plot a histogram of the results"
      ],
      "metadata": {
        "id": "oT2EMO2lQfOl"
      }
    },
    {
      "cell_type": "code",
      "source": [
        "impact_factor = {}\n",
        "for v in cv_cnt.keys():\n",
        "  impact_factor[v] = 0\n",
        "  if v != 'None' and pubication_ven.get(v) != None:\n",
        "    impact_factor[v] = cv_cnt[v]/pubication_ven[v]"
      ],
      "metadata": {
        "id": "2IODXza_IIwh"
      },
      "execution_count": null,
      "outputs": []
    },
    {
      "cell_type": "code",
      "source": [
        "plt.title('Impact Factors')\n",
        "plt.hist(list(impact_factor.values()), bins = 50, log = True, color = 'green')\n",
        "plt.show()"
      ],
      "metadata": {
        "colab": {
          "base_uri": "https://localhost:8080/",
          "height": 281
        },
        "id": "9YwdYMplExLo",
        "outputId": "1500d92f-3492-4084-8ab1-8933bab412da"
      },
      "execution_count": null,
      "outputs": [
        {
          "output_type": "display_data",
          "data": {
            "text/plain": [
              "<Figure size 432x288 with 1 Axes>"
            ],
            "image/png": "[encoded data removed]"
          },
          "metadata": {
            "needs_background": "light"
          }
        }
      ]
    },
    {
      "cell_type": "markdown",
      "source": [
        "H) What is the venue with the highest apparent impact factor? Do you believe this number?(http://mdanderson.libanswers.com/faq/26159)"
      ],
      "metadata": {
        "id": "9asYNggpUs2t"
      }
    },
    {
      "cell_type": "code",
      "source": [
        "highest_val = max(list(impact_factor.values()))\n",
        "highest_index = list(impact_factor.values()).index(highest_val)\n",
        "highest_venue = list(impact_factor.keys())[highest_index]\n",
        "print(\"The venue with the highest apparent impact factor is {0}\".format(highest_venue))"
      ],
      "metadata": {
        "colab": {
          "base_uri": "https://localhost:8080/"
        },
        "id": "rm15gxP-FOER",
        "outputId": "e914c7da-30aa-4078-ce62-a3465f1fb251"
      },
      "execution_count": null,
      "outputs": [
        {
          "output_type": "stream",
          "name": "stdout",
          "text": [
            "The venue with the highest apparent impact factor is Challenge of Microprocessors\n",
            "\n"
          ]
        }
      ]
    },
    {
      "cell_type": "markdown",
      "source": [
        "H. We calculated the impact factor from the number of citations of a particular venue and the number of publications associated with the venue. From our data analysis, we found that the names of the venues might be different across the dataset making it ambiguous. Thus, the obtained impact factor values might not be accurate."
      ],
      "metadata": {
        "id": "dkCRy479HsBD"
      }
    },
    {
      "cell_type": "markdown",
      "source": [
        "I) Now repeat the calculation from item b., but restrict the calculation to venues with at least 10 publications. How does your histogram change? List the citation counts for all publications from the venue with the highest impact factor. How does the impact factor (mean number of citations) compare to the median number of citations?"
      ],
      "metadata": {
        "id": "WRyb3leBU65X"
      }
    },
    {
      "cell_type": "code",
      "source": [
        "impact_factor_10 = {}\n",
        "for v in cv_cnt.keys():\n",
        "  impact_factor_10[v] = 0\n",
        "  if v != 'None' and pubication_ven.get(v) != None and pubication_ven[v] > 10:\n",
        "    impact_factor_10[v] = cv_cnt[v]/pubication_ven[v]"
      ],
      "metadata": {
        "id": "bSCLpGWqJ-7m"
      },
      "execution_count": null,
      "outputs": []
    },
    {
      "cell_type": "code",
      "source": [
        "plt.title('Impact Factors with atleast 10 publications')\n",
        "plt.hist(list(impact_factor_10.values()), bins = 50, log = True, color = 'green')\n",
        "plt.show()"
      ],
      "metadata": {
        "colab": {
          "base_uri": "https://localhost:8080/",
          "height": 281
        },
        "id": "c_lEDvmgKikg",
        "outputId": "258d0400-cced-457e-9825-f3360794de3a"
      },
      "execution_count": null,
      "outputs": [
        {
          "output_type": "display_data",
          "data": {
            "text/plain": [
              "<Figure size 432x288 with 1 Axes>"
            ],
            "image/png": "[encoded data removed]"
          },
          "metadata": {
            "needs_background": "light"
          }
        }
      ]
    },
    {
      "cell_type": "markdown",
      "source": [
        "J) Finally, construct a list of publications for each publication year. Use this list to plot the average number of references and average number of citations per publication as a function of time. Explain the differences you see in the trends."
      ],
      "metadata": {
        "id": "mU1fy5xnVBls"
      }
    },
    {
      "cell_type": "code",
      "source": [
        "years_pub = {}\n",
        "times = {}\n",
        "\n",
        "with open(\"acm.txt\", \"r\", newline = '') as f:\n",
        "  val = 0\n",
        "  time = 0\n",
        "  for text in f:\n",
        "    if text.startswith(\"#index\"):\n",
        "      val = int(each[6:])\n",
        "    elif text.startswith(\"#t\"):\n",
        "      time = int(text[2:])\n",
        "      if years_pub.get(time) == None:\n",
        "        years_pub[time] = {\"cits\":0, \"refs\":0, \"pubs\":0}\n",
        "        years_pub[time][\"pubs\"] = 1\n",
        "        if refs.get(val) != None:\n",
        "          references = refs.get(t)\n",
        "          years_pub[time][\"refs\"] = references\n",
        "        if cits.get(val) != None:\n",
        "          citations = cits.get(t)\n",
        "          years_pub[time][\"cits\"] = citations\n",
        "      else:\n",
        "        years_pub[time][\"pubs\"] += 1\n",
        "        if cits.get(val) != None:\n",
        "          citations = cits.get(t)\n",
        "          years_pub[time][\"cits\"] += citations\n",
        "        if refs.get(val) != None:\n",
        "          references = refs.get(t)\n",
        "          years_pub[time][\"refs\"] += references\n",
        "\n",
        "for time in years_pub.keys():\n",
        "  times[time] = {}\n",
        "  times[time][\"cits\"] = years_pub[time][\"cits\"]/years_pub[time][\"pubs\"]\n",
        "  times[time][\"refs\"] = years_pub[time][\"refs\"]/years_pub[time][\"pubs\"]"
      ],
      "metadata": {
        "id": "hUSsbkzXKvWP"
      },
      "execution_count": null,
      "outputs": []
    },
    {
      "cell_type": "code",
      "source": [
        "avg_time = collections.OrderedDict(sorted(times.items()))\n",
        "\n",
        "item1_list = list(avg_time.keys())\n",
        "item2_list = list([avg_time[c][\"cits\"] for c in item1_list])\n",
        "item3_list = list([avg_time[r][\"refs\"] for r in item1_list])\n",
        "fig, axes = plt.subplots()\n",
        "plt.plot(item1_list, item2_list, label = \"Avg. Number of Citations\")\n",
        "plt.plot(item1_list, item3_list, label = \"Avg. Number of References\")\n",
        "axes.legend(loc = \"upper left\")\n",
        "plt.show()"
      ],
      "metadata": {
        "colab": {
          "base_uri": "https://localhost:8080/",
          "height": 265
        },
        "id": "qxZZDcRPLvpY",
        "outputId": "58543726-e44f-4321-f720-f4bd654b1a49"
      },
      "execution_count": null,
      "outputs": [
        {
          "output_type": "display_data",
          "data": {
            "text/plain": [
              "<Figure size 432x288 with 1 Axes>"
            ],
            "image/png": "[encoded data removed]"
          },
          "metadata": {
            "needs_background": "light"
          }
        }
      ]
    }
  ],
  "metadata": {
    "colab": {
      "name": "USML_HW_1_(Problem 1).ipynb",
      "provenance": [],
      "collapsed_sections": []
    },
    "kernelspec": {
      "display_name": "Python 3",
      "name": "python3"
    },
    "language_info": {
      "name": "python"
    },
    "accelerator": "GPU"
  },
  "nbformat": 4,
  "nbformat_minor": 0
}