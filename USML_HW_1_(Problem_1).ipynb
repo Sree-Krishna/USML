{
  "cells": [
    {
      "cell_type": "markdown",
      "metadata": {
        "id": "xX7i65-Nt_t8"
      },
      "source": [
        "PROBLEM 1: Aminer : basic dataset analysis (collabrator: Manasa Krishnan)"
      ]
    },
    {
      "cell_type": "code",
      "execution_count": null,
      "metadata": {
        "colab": {
          "base_uri": "https://localhost:8080/"
        },
        "id": "3V1XgrmBt8vF",
        "outputId": "bfb9f9c9-8697-48b4-959f-4f1b7f70217a"
      },
      "outputs": [
        {
          "output_type": "stream",
          "name": "stdout",
          "text": [
            "Looking in indexes: https://pypi.org/simple, https://us-python.pkg.dev/colab-wheels/public/simple/\n",
            "Collecting wget\n",
            "  Downloading wget-3.2.zip (10 kB)\n",
            "Building wheels for collected packages: wget\n",
            "  Building wheel for wget (setup.py) ... \u001b[?25l\u001b[?25hdone\n",
            "  Created wheel for wget: filename=wget-3.2-py3-none-any.whl size=9675 sha256=7da693865045e9945756d92933d054d23a432e412574b356961ae03ef751809b\n",
            "  Stored in directory: /root/.cache/pip/wheels/a1/b6/7c/0e63e34eb06634181c63adacca38b79ff8f35c37e3c13e3c02\n",
            "Successfully built wget\n",
            "Installing collected packages: wget\n",
            "Successfully installed wget-3.2\n"
          ]
        }
      ],
      "source": [
        "pip install wget "
      ]
    },
    {
      "cell_type": "code",
      "execution_count": null,
      "metadata": {
        "id": "XPWF-1kpzUB7"
      },
      "outputs": [],
      "source": [
        "import wget\n",
        "import pandas as pd\n",
        "import numpy as np\n",
        "import collections\n",
        "import matplotlib.pyplot as plt"
      ]
    },
    {
      "cell_type": "code",
      "execution_count": null,
      "metadata": {
        "colab": {
          "base_uri": "https://localhost:8080/"
        },
        "id": "LqbxUGDHuT40",
        "outputId": "edfd3424-738b-4e08-9157-d4a72f7a9a9f"
      },
      "outputs": [
        {
          "output_type": "stream",
          "name": "stdout",
          "text": [
            "Archive:  acm.v9.zip\n",
            "  inflating: acm.txt                 \n"
          ]
        }
      ],
      "source": [
        "url = 'https://lfs.aminer.cn/lab-datasets/citation/acm.v9.zip'\n",
        "wget.download(url)\n",
        "!unzip acm.v9.zip"
      ]
    },
    {
      "cell_type": "markdown",
      "source": [
        "A) Compute the number of distinct authors, publication venues, publications, and citations/references"
      ],
      "metadata": {
        "id": "FbBe4s3Uf7nE"
      }
    },
    {
      "cell_type": "code",
      "source": [
        "authors = []\n",
        "venues = []\n",
        "publications = []\n",
        "references = []\n",
        "\n",
        "with open(\"acm.txt\", 'r+', newline = '') as f:\n",
        "    for text in f:\n",
        "      if text.startswith(\"#@\"):\n",
        "        for i in text[2:].split(','):\n",
        "          authors.append(i.strip())\n",
        "      elif text.startswith(\"#c\"):\n",
        "        venues.append(text)\n",
        "      elif text.startswith(\"#index\"):\n",
        "        temp = text[6:]\n",
        "        publications.append(text)\n",
        "      elif text.startswith(\"#%\"):\n",
        "        references.append(text + temp)\n",
        "\n",
        "authors = list(set(authors))\n",
        "venues = list(set(venues))\n",
        "publications = list(set(publications))\n",
        "references = list(set(references))\n",
        "\n",
        "pd.DataFrame({'Type':['Authors', 'Venues', 'Publications', 'References'], 'Values':[len(authors), len(venues), len(publications), len(references)]})"
      ],
      "metadata": {
        "id": "p0hkImKw-r50",
        "colab": {
          "base_uri": "https://localhost:8080/",
          "height": 175
        },
        "outputId": "72a665c8-160c-4e11-c548-e2e33c203393"
      },
      "execution_count": 56,
      "outputs": [
        {
          "output_type": "execute_result",
          "data": {
            "text/plain": [
              "           Type   Values\n",
              "0       Authors  1651589\n",
              "1        Venues   273329\n",
              "2  Publications  2385057\n",
              "3    References  9671893"
            ],
            "text/html": [
              "\n",
              "  <div id=\"df-56cfc8a7-a76d-462d-9296-34bb3fbebde0\">\n",
              "    <div class=\"colab-df-container\">\n",
              "      <div>\n",
              "<style scoped>\n",
              "    .dataframe tbody tr th:only-of-type {\n",
              "        vertical-align: middle;\n",
              "    }\n",
              "\n",
              "    .dataframe tbody tr th {\n",
              "        vertical-align: top;\n",
              "    }\n",
              "\n",
              "    .dataframe thead th {\n",
              "        text-align: right;\n",
              "    }\n",
              "</style>\n",
              "<table border=\"1\" class=\"dataframe\">\n",
              "  <thead>\n",
              "    <tr style=\"text-align: right;\">\n",
              "      <th></th>\n",
              "      <th>Type</th>\n",
              "      <th>Values</th>\n",
              "    </tr>\n",
              "  </thead>\n",
              "  <tbody>\n",
              "    <tr>\n",
              "      <th>0</th>\n",
              "      <td>Authors</td>\n",
              "      <td>1651589</td>\n",
              "    </tr>\n",
              "    <tr>\n",
              "      <th>1</th>\n",
              "      <td>Venues</td>\n",
              "      <td>273329</td>\n",
              "    </tr>\n",
              "    <tr>\n",
              "      <th>2</th>\n",
              "      <td>Publications</td>\n",
              "      <td>2385057</td>\n",
              "    </tr>\n",
              "    <tr>\n",
              "      <th>3</th>\n",
              "      <td>References</td>\n",
              "      <td>9671893</td>\n",
              "    </tr>\n",
              "  </tbody>\n",
              "</table>\n",
              "</div>\n",
              "      <button class=\"colab-df-convert\" onclick=\"convertToInteractive('df-56cfc8a7-a76d-462d-9296-34bb3fbebde0')\"\n",
              "              title=\"Convert this dataframe to an interactive table.\"\n",
              "              style=\"display:none;\">\n",
              "        \n",
              "  <svg xmlns=\"http://www.w3.org/2000/svg\" height=\"24px\"viewBox=\"0 0 24 24\"\n",
              "       width=\"24px\">\n",
              "    <path d=\"M0 0h24v24H0V0z\" fill=\"none\"/>\n",
              "    <path d=\"M18.56 5.44l.94 2.06.94-2.06 2.06-.94-2.06-.94-.94-2.06-.94 2.06-2.06.94zm-11 1L8.5 8.5l.94-2.06 2.06-.94-2.06-.94L8.5 2.5l-.94 2.06-2.06.94zm10 10l.94 2.06.94-2.06 2.06-.94-2.06-.94-.94-2.06-.94 2.06-2.06.94z\"/><path d=\"M17.41 7.96l-1.37-1.37c-.4-.4-.92-.59-1.43-.59-.52 0-1.04.2-1.43.59L10.3 9.45l-7.72 7.72c-.78.78-.78 2.05 0 2.83L4 21.41c.39.39.9.59 1.41.59.51 0 1.02-.2 1.41-.59l7.78-7.78 2.81-2.81c.8-.78.8-2.07 0-2.86zM5.41 20L4 18.59l7.72-7.72 1.47 1.35L5.41 20z\"/>\n",
              "  </svg>\n",
              "      </button>\n",
              "      \n",
              "  <style>\n",
              "    .colab-df-container {\n",
              "      display:flex;\n",
              "      flex-wrap:wrap;\n",
              "      gap: 12px;\n",
              "    }\n",
              "\n",
              "    .colab-df-convert {\n",
              "      background-color: #E8F0FE;\n",
              "      border: none;\n",
              "      border-radius: 50%;\n",
              "      cursor: pointer;\n",
              "      display: none;\n",
              "      fill: #1967D2;\n",
              "      height: 32px;\n",
              "      padding: 0 0 0 0;\n",
              "      width: 32px;\n",
              "    }\n",
              "\n",
              "    .colab-df-convert:hover {\n",
              "      background-color: #E2EBFA;\n",
              "      box-shadow: 0px 1px 2px rgba(60, 64, 67, 0.3), 0px 1px 3px 1px rgba(60, 64, 67, 0.15);\n",
              "      fill: #174EA6;\n",
              "    }\n",
              "\n",
              "    [theme=dark] .colab-df-convert {\n",
              "      background-color: #3B4455;\n",
              "      fill: #D2E3FC;\n",
              "    }\n",
              "\n",
              "    [theme=dark] .colab-df-convert:hover {\n",
              "      background-color: #434B5C;\n",
              "      box-shadow: 0px 1px 3px 1px rgba(0, 0, 0, 0.15);\n",
              "      filter: drop-shadow(0px 1px 2px rgba(0, 0, 0, 0.3));\n",
              "      fill: #FFFFFF;\n",
              "    }\n",
              "  </style>\n",
              "\n",
              "      <script>\n",
              "        const buttonEl =\n",
              "          document.querySelector('#df-56cfc8a7-a76d-462d-9296-34bb3fbebde0 button.colab-df-convert');\n",
              "        buttonEl.style.display =\n",
              "          google.colab.kernel.accessAllowed ? 'block' : 'none';\n",
              "\n",
              "        async function convertToInteractive(key) {\n",
              "          const element = document.querySelector('#df-56cfc8a7-a76d-462d-9296-34bb3fbebde0');\n",
              "          const dataTable =\n",
              "            await google.colab.kernel.invokeFunction('convertToInteractive',\n",
              "                                                     [key], {});\n",
              "          if (!dataTable) return;\n",
              "\n",
              "          const docLinkHtml = 'Like what you see? Visit the ' +\n",
              "            '<a target=\"_blank\" href=https://colab.research.google.com/notebooks/data_table.ipynb>data table notebook</a>'\n",
              "            + ' to learn more about interactive tables.';\n",
              "          element.innerHTML = '';\n",
              "          dataTable['output_type'] = 'display_data';\n",
              "          await google.colab.output.renderOutput(dataTable, element);\n",
              "          const docLink = document.createElement('div');\n",
              "          docLink.innerHTML = docLinkHtml;\n",
              "          element.appendChild(docLink);\n",
              "        }\n",
              "      </script>\n",
              "    </div>\n",
              "  </div>\n",
              "  "
            ]
          },
          "metadata": {},
          "execution_count": 56
        }
      ]
    },
    {
      "cell_type": "markdown",
      "source": [
        "B) Are these numbers likely to be accurate? As an example look up all the publications venue names associated with the conference “Principles and Practice of Knowledge Discovery in Databases”13 – what do you notice?"
      ],
      "metadata": {
        "id": "Tn-3htUanJWr"
      }
    },
    {
      "cell_type": "code",
      "source": [
        "venue = []\n",
        "\n",
        "with open(\"acm.txt\", 'r+', newline = '') as f:\n",
        "  for text in f:\n",
        "    if text.startswith(\"#c\"):\n",
        "      if \"Principles and Practice of Knowledge Discovery in Databases\" in text:\n",
        "        venue.append(text[2:])\n",
        "print(\"Associated Venue Names:\")\n",
        "for v in list(set(venue)):\n",
        "  print(v)"
      ],
      "metadata": {
        "colab": {
          "base_uri": "https://localhost:8080/"
        },
        "id": "cbufRYgknD2F",
        "outputId": "5c0c7d69-573c-43ee-c693-ac1c142d2e99"
      },
      "execution_count": null,
      "outputs": [
        {
          "output_type": "stream",
          "name": "stdout",
          "text": [
            "Associated Venue Names:\n",
            "Knowledge Discovery in Databases: PKDD 2005: 9th European Conference on Principles and Practice of Knowledge Discovery in Databases, Porto, Portugal, October ... / Lecture Notes in Artificial Intelligence)\n",
            "\n",
            "PKDD 2007 Proceedings of the 11th European conference on Principles and Practice of Knowledge Discovery in Databases\n",
            "\n",
            "PKDD '04 Proceedings of the 8th European Conference on Principles and Practice of Knowledge Discovery in Databases\n",
            "\n",
            "PKDD'05 Proceedings of the 9th European conference on Principles and Practice of Knowledge Discovery in Databases\n",
            "\n",
            "Knowledge Discovery in Databases: PKDD 2006: 10th European Conference on Principles and Practice of Knowledge Discovery in Databases, Berlin, Germany, September ... (Lecture Notes in Computer Science)\n",
            "\n"
          ]
        }
      ]
    },
    {
      "cell_type": "markdown",
      "source": [
        "The count values is not accurate as they are not consistent throughout the text dataset. There are different venue names for the same conference which will result in wrong manipulation.  "
      ],
      "metadata": {
        "id": "YHIvps98rLt_"
      }
    },
    {
      "cell_type": "markdown",
      "source": [
        "C) For each author, construct the list of publications. Plot a histogram of the number of publications per author (use a logarithmic scale on the y axis)"
      ],
      "metadata": {
        "id": "Ft2opJewsKgS"
      }
    },
    {
      "cell_type": "code",
      "source": [
        "pub_authors = {}\n",
        "with open(\"acm.txt\", 'r+', newline = '') as f:\n",
        "   for text in f:\n",
        "     if text.startswith(\"#@\"):\n",
        "       for i in text[2:].split(','):\n",
        "         if pub_authors.get(i.strip()) == None and i.strip() != \"\":\n",
        "           pub_authors[i.strip()] = 1\n",
        "         elif i.strip() != \"\":\n",
        "           pub_authors[i.strip()] += 1\n",
        "\n",
        "publications = list(pub_authors.values())\n",
        "authors = list(pub_authors.keys())\n",
        "plt.hist(publications, bins = 30, log = True)\n",
        "plt.title('Authors Vs Publications')\n",
        "plt.xlabel('Authors')\n",
        "plt.ylabel('Number of publications')\n",
        "plt.show()"
      ],
      "metadata": {
        "id": "sAfkzluGq1eM",
        "colab": {
          "base_uri": "https://localhost:8080/",
          "height": 295
        },
        "outputId": "59151582-1a04-4865-adbd-8f586f0bdaf0"
      },
      "execution_count": 58,
      "outputs": [
        {
          "output_type": "display_data",
          "data": {
            "text/plain": [
              "<Figure size 432x288 with 1 Axes>"
            ],
            "image/png": "[encoded data removed]"
          },
          "metadata": {
            "needs_background": "light"
          }
        }
      ]
    },
    {
      "cell_type": "markdown",
      "source": [
        "D) Calculate the mean and standard deviation of the number of publications per author. Also calculate the Q1 (1st quartile14), Q2 (2nd quartile, or median) and Q3 (3rd quartile) values. Compare the median to the mean and explain the difference between the two values based on the standard deviation and the 1st and 3rd quartiles."
      ],
      "metadata": {
        "id": "jGoFpp165RXA"
      }
    },
    {
      "cell_type": "code",
      "source": [
        "mean_pub = np.mean(publications)\n",
        "std_pub = np.std(publications)\n",
        "q1 = np.percentile(publications, 25)\n",
        "median_pub = np.percentile(publications, 50)\n",
        "q3 = np.percentile(publications, 75)\n",
        "pd.DataFrame({'Measure':['Mean', 'Std', 'Q1', 'Q2/Median', 'Q3'], 'Values':[mean_pub, std_pub, q1, median_pub, q3]})"
      ],
      "metadata": {
        "colab": {
          "base_uri": "https://localhost:8080/",
          "height": 206
        },
        "id": "f36v0ksF3EsN",
        "outputId": "15375344-18dd-447a-9900-217ed595a3f7"
      },
      "execution_count": 59,
      "outputs": [
        {
          "output_type": "execute_result",
          "data": {
            "text/plain": [
              "     Measure     Values\n",
              "0       Mean   3.462492\n",
              "1        Std  12.771384\n",
              "2         Q1   1.000000\n",
              "3  Q2/Median   1.000000\n",
              "4         Q3   3.000000"
            ],
            "text/html": [
              "\n",
              "  <div id=\"df-6c12cb01-f6f8-4be5-90d4-9839974636ac\">\n",
              "    <div class=\"colab-df-container\">\n",
              "      <div>\n",
              "<style scoped>\n",
              "    .dataframe tbody tr th:only-of-type {\n",
              "        vertical-align: middle;\n",
              "    }\n",
              "\n",
              "    .dataframe tbody tr th {\n",
              "        vertical-align: top;\n",
              "    }\n",
              "\n",
              "    .dataframe thead th {\n",
              "        text-align: right;\n",
              "    }\n",
              "</style>\n",
              "<table border=\"1\" class=\"dataframe\">\n",
              "  <thead>\n",
              "    <tr style=\"text-align: right;\">\n",
              "      <th></th>\n",
              "      <th>Measure</th>\n",
              "      <th>Values</th>\n",
              "    </tr>\n",
              "  </thead>\n",
              "  <tbody>\n",
              "    <tr>\n",
              "      <th>0</th>\n",
              "      <td>Mean</td>\n",
              "      <td>3.462492</td>\n",
              "    </tr>\n",
              "    <tr>\n",
              "      <th>1</th>\n",
              "      <td>Std</td>\n",
              "      <td>12.771384</td>\n",
              "    </tr>\n",
              "    <tr>\n",
              "      <th>2</th>\n",
              "      <td>Q1</td>\n",
              "      <td>1.000000</td>\n",
              "    </tr>\n",
              "    <tr>\n",
              "      <th>3</th>\n",
              "      <td>Q2/Median</td>\n",
              "      <td>1.000000</td>\n",
              "    </tr>\n",
              "    <tr>\n",
              "      <th>4</th>\n",
              "      <td>Q3</td>\n",
              "      <td>3.000000</td>\n",
              "    </tr>\n",
              "  </tbody>\n",
              "</table>\n",
              "</div>\n",
              "      <button class=\"colab-df-convert\" onclick=\"convertToInteractive('df-6c12cb01-f6f8-4be5-90d4-9839974636ac')\"\n",
              "              title=\"Convert this dataframe to an interactive table.\"\n",
              "              style=\"display:none;\">\n",
              "        \n",
              "  <svg xmlns=\"http://www.w3.org/2000/svg\" height=\"24px\"viewBox=\"0 0 24 24\"\n",
              "       width=\"24px\">\n",
              "    <path d=\"M0 0h24v24H0V0z\" fill=\"none\"/>\n",
              "    <path d=\"M18.56 5.44l.94 2.06.94-2.06 2.06-.94-2.06-.94-.94-2.06-.94 2.06-2.06.94zm-11 1L8.5 8.5l.94-2.06 2.06-.94-2.06-.94L8.5 2.5l-.94 2.06-2.06.94zm10 10l.94 2.06.94-2.06 2.06-.94-2.06-.94-.94-2.06-.94 2.06-2.06.94z\"/><path d=\"M17.41 7.96l-1.37-1.37c-.4-.4-.92-.59-1.43-.59-.52 0-1.04.2-1.43.59L10.3 9.45l-7.72 7.72c-.78.78-.78 2.05 0 2.83L4 21.41c.39.39.9.59 1.41.59.51 0 1.02-.2 1.41-.59l7.78-7.78 2.81-2.81c.8-.78.8-2.07 0-2.86zM5.41 20L4 18.59l7.72-7.72 1.47 1.35L5.41 20z\"/>\n",
              "  </svg>\n",
              "      </button>\n",
              "      \n",
              "  <style>\n",
              "    .colab-df-container {\n",
              "      display:flex;\n",
              "      flex-wrap:wrap;\n",
              "      gap: 12px;\n",
              "    }\n",
              "\n",
              "    .colab-df-convert {\n",
              "      background-color: #E8F0FE;\n",
              "      border: none;\n",
              "      border-radius: 50%;\n",
              "      cursor: pointer;\n",
              "      display: none;\n",
              "      fill: #1967D2;\n",
              "      height: 32px;\n",
              "      padding: 0 0 0 0;\n",
              "      width: 32px;\n",
              "    }\n",
              "\n",
              "    .colab-df-convert:hover {\n",
              "      background-color: #E2EBFA;\n",
              "      box-shadow: 0px 1px 2px rgba(60, 64, 67, 0.3), 0px 1px 3px 1px rgba(60, 64, 67, 0.15);\n",
              "      fill: #174EA6;\n",
              "    }\n",
              "\n",
              "    [theme=dark] .colab-df-convert {\n",
              "      background-color: #3B4455;\n",
              "      fill: #D2E3FC;\n",
              "    }\n",
              "\n",
              "    [theme=dark] .colab-df-convert:hover {\n",
              "      background-color: #434B5C;\n",
              "      box-shadow: 0px 1px 3px 1px rgba(0, 0, 0, 0.15);\n",
              "      filter: drop-shadow(0px 1px 2px rgba(0, 0, 0, 0.3));\n",
              "      fill: #FFFFFF;\n",
              "    }\n",
              "  </style>\n",
              "\n",
              "      <script>\n",
              "        const buttonEl =\n",
              "          document.querySelector('#df-6c12cb01-f6f8-4be5-90d4-9839974636ac button.colab-df-convert');\n",
              "        buttonEl.style.display =\n",
              "          google.colab.kernel.accessAllowed ? 'block' : 'none';\n",
              "\n",
              "        async function convertToInteractive(key) {\n",
              "          const element = document.querySelector('#df-6c12cb01-f6f8-4be5-90d4-9839974636ac');\n",
              "          const dataTable =\n",
              "            await google.colab.kernel.invokeFunction('convertToInteractive',\n",
              "                                                     [key], {});\n",
              "          if (!dataTable) return;\n",
              "\n",
              "          const docLinkHtml = 'Like what you see? Visit the ' +\n",
              "            '<a target=\"_blank\" href=https://colab.research.google.com/notebooks/data_table.ipynb>data table notebook</a>'\n",
              "            + ' to learn more about interactive tables.';\n",
              "          element.innerHTML = '';\n",
              "          dataTable['output_type'] = 'display_data';\n",
              "          await google.colab.output.renderOutput(dataTable, element);\n",
              "          const docLink = document.createElement('div');\n",
              "          docLink.innerHTML = docLinkHtml;\n",
              "          element.appendChild(docLink);\n",
              "        }\n",
              "      </script>\n",
              "    </div>\n",
              "  </div>\n",
              "  "
            ]
          },
          "metadata": {},
          "execution_count": 59
        }
      ]
    },
    {
      "cell_type": "markdown",
      "source": [
        "The number of publications associated with an author is mostly 1. The values found above show the same. The median or Q2 is 1 while mean is 3.46 with std 12.87 this shows the median, Q1 and Q2 lies in the range of std from mean"
      ],
      "metadata": {
        "id": "RfJtTqoS_KEy"
      }
    },
    {
      "cell_type": "markdown",
      "source": [
        "E) Now plot a histogram of the number of publications per venue, as well as calculate the mean, standard deviation, median, Q1, and Q3 values. What is the venue with the largest number of publications in the dataset?"
      ],
      "metadata": {
        "id": "SQCjUv9w_izA"
      }
    },
    {
      "cell_type": "code",
      "source": [
        "pub_venues = {}\n",
        "with open(\"acm.txt\", 'r+', newline = '') as f:\n",
        "   for text in f:\n",
        "     if text.startswith(\"#c\"): \n",
        "       if pub_venues.get(text[2:]) == None:\n",
        "         pub_venues[text[2:]] = 1\n",
        "       else:\n",
        "         pub_venues[text[2:]] += 1\n",
        "\n",
        "pubication_ven = list(pub_venues.values())\n",
        "venues = list(pub_venues.keys())\n",
        "plt.hist(pubication_ven, bins = 50, log = True)\n",
        "plt.title('Venues Vs Publications')\n",
        "plt.xlabel('Venues')\n",
        "plt.ylabel('Number of publications')\n",
        "plt.show()"
      ],
      "metadata": {
        "id": "1OTRFc509atV",
        "colab": {
          "base_uri": "https://localhost:8080/",
          "height": 295
        },
        "outputId": "0bb95043-b701-40a9-e74e-af4d941c44c0"
      },
      "execution_count": 60,
      "outputs": [
        {
          "output_type": "display_data",
          "data": {
            "text/plain": [
              "<Figure size 432x288 with 1 Axes>"
            ],
            "image/png": "[encoded data removed]"
          },
          "metadata": {
            "needs_background": "light"
          }
        }
      ]
    },
    {
      "cell_type": "code",
      "source": [
        "mean = np.mean(pubication_ven)\n",
        "std = np.std(pubication_ven)\n",
        "q1 = np.percentile(pubication_ven, 25)\n",
        "median = np.percentile(pubication_ven, 50)\n",
        "q3 = np.percentile(pubication_ven, 75)\n",
        "pd.DataFrame({'Type':['Mean', 'Std', 'Q1', 'Q2/Median', 'Q3'], 'Values':[mean, std, q1, median, q3]})"
      ],
      "metadata": {
        "id": "Dvuh2cHGBJVh",
        "colab": {
          "base_uri": "https://localhost:8080/",
          "height": 206
        },
        "outputId": "4e13805f-2c02-47ba-fec9-a2447af1ec27"
      },
      "execution_count": 61,
      "outputs": [
        {
          "output_type": "execute_result",
          "data": {
            "text/plain": [
              "        Type      Values\n",
              "0       Mean    8.725485\n",
              "1        Std  106.795835\n",
              "2         Q1    1.000000\n",
              "3  Q2/Median    1.000000\n",
              "4         Q3    1.000000"
            ],
            "text/html": [
              "\n",
              "  <div id=\"df-47cb15ed-31d8-425b-b317-9c38411dee29\">\n",
              "    <div class=\"colab-df-container\">\n",
              "      <div>\n",
              "<style scoped>\n",
              "    .dataframe tbody tr th:only-of-type {\n",
              "        vertical-align: middle;\n",
              "    }\n",
              "\n",
              "    .dataframe tbody tr th {\n",
              "        vertical-align: top;\n",
              "    }\n",
              "\n",
              "    .dataframe thead th {\n",
              "        text-align: right;\n",
              "    }\n",
              "</style>\n",
              "<table border=\"1\" class=\"dataframe\">\n",
              "  <thead>\n",
              "    <tr style=\"text-align: right;\">\n",
              "      <th></th>\n",
              "      <th>Type</th>\n",
              "      <th>Values</th>\n",
              "    </tr>\n",
              "  </thead>\n",
              "  <tbody>\n",
              "    <tr>\n",
              "      <th>0</th>\n",
              "      <td>Mean</td>\n",
              "      <td>8.725485</td>\n",
              "    </tr>\n",
              "    <tr>\n",
              "      <th>1</th>\n",
              "      <td>Std</td>\n",
              "      <td>106.795835</td>\n",
              "    </tr>\n",
              "    <tr>\n",
              "      <th>2</th>\n",
              "      <td>Q1</td>\n",
              "      <td>1.000000</td>\n",
              "    </tr>\n",
              "    <tr>\n",
              "      <th>3</th>\n",
              "      <td>Q2/Median</td>\n",
              "      <td>1.000000</td>\n",
              "    </tr>\n",
              "    <tr>\n",
              "      <th>4</th>\n",
              "      <td>Q3</td>\n",
              "      <td>1.000000</td>\n",
              "    </tr>\n",
              "  </tbody>\n",
              "</table>\n",
              "</div>\n",
              "      <button class=\"colab-df-convert\" onclick=\"convertToInteractive('df-47cb15ed-31d8-425b-b317-9c38411dee29')\"\n",
              "              title=\"Convert this dataframe to an interactive table.\"\n",
              "              style=\"display:none;\">\n",
              "        \n",
              "  <svg xmlns=\"http://www.w3.org/2000/svg\" height=\"24px\"viewBox=\"0 0 24 24\"\n",
              "       width=\"24px\">\n",
              "    <path d=\"M0 0h24v24H0V0z\" fill=\"none\"/>\n",
              "    <path d=\"M18.56 5.44l.94 2.06.94-2.06 2.06-.94-2.06-.94-.94-2.06-.94 2.06-2.06.94zm-11 1L8.5 8.5l.94-2.06 2.06-.94-2.06-.94L8.5 2.5l-.94 2.06-2.06.94zm10 10l.94 2.06.94-2.06 2.06-.94-2.06-.94-.94-2.06-.94 2.06-2.06.94z\"/><path d=\"M17.41 7.96l-1.37-1.37c-.4-.4-.92-.59-1.43-.59-.52 0-1.04.2-1.43.59L10.3 9.45l-7.72 7.72c-.78.78-.78 2.05 0 2.83L4 21.41c.39.39.9.59 1.41.59.51 0 1.02-.2 1.41-.59l7.78-7.78 2.81-2.81c.8-.78.8-2.07 0-2.86zM5.41 20L4 18.59l7.72-7.72 1.47 1.35L5.41 20z\"/>\n",
              "  </svg>\n",
              "      </button>\n",
              "      \n",
              "  <style>\n",
              "    .colab-df-container {\n",
              "      display:flex;\n",
              "      flex-wrap:wrap;\n",
              "      gap: 12px;\n",
              "    }\n",
              "\n",
              "    .colab-df-convert {\n",
              "      background-color: #E8F0FE;\n",
              "      border: none;\n",
              "      border-radius: 50%;\n",
              "      cursor: pointer;\n",
              "      display: none;\n",
              "      fill: #1967D2;\n",
              "      height: 32px;\n",
              "      padding: 0 0 0 0;\n",
              "      width: 32px;\n",
              "    }\n",
              "\n",
              "    .colab-df-convert:hover {\n",
              "      background-color: #E2EBFA;\n",
              "      box-shadow: 0px 1px 2px rgba(60, 64, 67, 0.3), 0px 1px 3px 1px rgba(60, 64, 67, 0.15);\n",
              "      fill: #174EA6;\n",
              "    }\n",
              "\n",
              "    [theme=dark] .colab-df-convert {\n",
              "      background-color: #3B4455;\n",
              "      fill: #D2E3FC;\n",
              "    }\n",
              "\n",
              "    [theme=dark] .colab-df-convert:hover {\n",
              "      background-color: #434B5C;\n",
              "      box-shadow: 0px 1px 3px 1px rgba(0, 0, 0, 0.15);\n",
              "      filter: drop-shadow(0px 1px 2px rgba(0, 0, 0, 0.3));\n",
              "      fill: #FFFFFF;\n",
              "    }\n",
              "  </style>\n",
              "\n",
              "      <script>\n",
              "        const buttonEl =\n",
              "          document.querySelector('#df-47cb15ed-31d8-425b-b317-9c38411dee29 button.colab-df-convert');\n",
              "        buttonEl.style.display =\n",
              "          google.colab.kernel.accessAllowed ? 'block' : 'none';\n",
              "\n",
              "        async function convertToInteractive(key) {\n",
              "          const element = document.querySelector('#df-47cb15ed-31d8-425b-b317-9c38411dee29');\n",
              "          const dataTable =\n",
              "            await google.colab.kernel.invokeFunction('convertToInteractive',\n",
              "                                                     [key], {});\n",
              "          if (!dataTable) return;\n",
              "\n",
              "          const docLinkHtml = 'Like what you see? Visit the ' +\n",
              "            '<a target=\"_blank\" href=https://colab.research.google.com/notebooks/data_table.ipynb>data table notebook</a>'\n",
              "            + ' to learn more about interactive tables.';\n",
              "          element.innerHTML = '';\n",
              "          dataTable['output_type'] = 'display_data';\n",
              "          await google.colab.output.renderOutput(dataTable, element);\n",
              "          const docLink = document.createElement('div');\n",
              "          docLink.innerHTML = docLinkHtml;\n",
              "          element.appendChild(docLink);\n",
              "        }\n",
              "      </script>\n",
              "    </div>\n",
              "  </div>\n",
              "  "
            ]
          },
          "metadata": {},
          "execution_count": 61
        }
      ]
    },
    {
      "cell_type": "code",
      "source": [
        "print(\"Venue with max publications:\",venues[list(pub_venues.values()).index(max(pub_venues.values()))])"
      ],
      "metadata": {
        "id": "lfHbMbJgBrm5",
        "colab": {
          "base_uri": "https://localhost:8080/"
        },
        "outputId": "344426c1-ea27-4dd5-e7ba-cc11a601600f"
      },
      "execution_count": 62,
      "outputs": [
        {
          "output_type": "stream",
          "name": "stdout",
          "text": [
            "Venue with max publications: IEEE Transactions on Information Theory\n",
            "\n"
          ]
        }
      ]
    },
    {
      "cell_type": "markdown",
      "source": [
        "F) Plot a histogram of the number of references (number of publications a publication refers to) and citations (number of publications referring to a publication) per publication. What is the publication with the largest number of references? What is the publication with the largest number of citations? Do these make sense?"
      ],
      "metadata": {
        "id": "oR3rlDxyJDQn"
      }
    },
    {
      "cell_type": "code",
      "source": [
        "publications = {}\n",
        "citations = {}\n",
        "cv_count = {}\n",
        "references = {}\n",
        "\n",
        "with open('acm.txt', 'r', newline = '') as f:\n",
        "  val = 0\n",
        "  for text in f:\n",
        "    if text.startswith(\"#index\"):\n",
        "      val = int(text[6:])\n",
        "    elif text.startswith(\"#c\"):\n",
        "      temp = text[2:]\n",
        "      if publications.get(val) == None:\n",
        "        publications[val] = temp\n",
        "    elif text.startswith(\"#%\"):\n",
        "      if references.get(val) == None:\n",
        "        references[val] = 1\n",
        "      else:\n",
        "        references[val] += 1\n",
        "\n",
        "      if citations.get(int(text[2:])) == None:\n",
        "        citations[int(text[2:])] = 1\n",
        "      else: \n",
        "        citations[int(text[2:])] += 1\n",
        "      \n",
        "      v = publications.get(int(text[2:]))\n",
        "      if cv_count.get(v) == None:\n",
        "        cv_count[v] = 1\n",
        "      else:\n",
        "        cv_count[v] += 1"
      ],
      "metadata": {
        "id": "fS0q-4ofyHQm"
      },
      "execution_count": 63,
      "outputs": []
    },
    {
      "cell_type": "code",
      "source": [
        "ref_keys = list(references.keys())\n",
        "citation_keys = list(citations.keys())\n",
        "ref_values = list(references.values())\n",
        "citation_values = list(citations.values())\n",
        "max_reference = max(list(references.values()))\n",
        "max_citation = max(list(citations.values())) \n",
        "print(\"Maximum References:{0}, Publication Index:{1}\".format(max_reference, ref_keys[ref_values.index(max_reference)]))\n",
        "print(\"Maximum Citations:{0}, Publication Index:{1}\".format(max_citation, citation_keys[citation_values.index(max_citation)]))"
      ],
      "metadata": {
        "colab": {
          "base_uri": "https://localhost:8080/"
        },
        "id": "dnHLvhTYDnK-",
        "outputId": "4191dfa1-b701-42aa-b6b6-3b9eda3ba9dc"
      },
      "execution_count": 64,
      "outputs": [
        {
          "output_type": "stream",
          "name": "stdout",
          "text": [
            "Maximum References:809, Publication Index:2015217\n",
            "Maximum Citations:938039, Publication Index:2135000\n"
          ]
        }
      ]
    },
    {
      "cell_type": "code",
      "source": [
        "plt.title('Number of References')\n",
        "plt.hist(list(references.values()), bins = 50, log=True)\n",
        "plt.show()"
      ],
      "metadata": {
        "colab": {
          "base_uri": "https://localhost:8080/",
          "height": 281
        },
        "id": "FG3Y0xspEA7g",
        "outputId": "d4416a09-b0ed-4c75-8554-d7cbef47afd7"
      },
      "execution_count": 65,
      "outputs": [
        {
          "output_type": "display_data",
          "data": {
            "text/plain": [
              "<Figure size 432x288 with 1 Axes>"
            ],
            "image/png": "[encoded data removed]"
          },
          "metadata": {
            "needs_background": "light"
          }
        }
      ]
    },
    {
      "cell_type": "code",
      "source": [
        "plt.title('Number of Citations')\n",
        "plt.hist(list(citations.values()), bins = 50, log = True)\n",
        "plt.show()"
      ],
      "metadata": {
        "colab": {
          "base_uri": "https://localhost:8080/",
          "height": 281
        },
        "id": "GbVstycgGS1M",
        "outputId": "26f52d81-fcc6-4405-d0ca-3fe1d2308da6"
      },
      "execution_count": 66,
      "outputs": [
        {
          "output_type": "display_data",
          "data": {
            "text/plain": [
              "<Figure size 432x288 with 1 Axes>"
            ],
            "image/png": "[encoded data removed]"
          },
          "metadata": {
            "needs_background": "light"
          }
        }
      ]
    },
    {
      "cell_type": "markdown",
      "source": [
        "Yes the values make sense because a particular publication will have less reference compared to the number citations a paritcular publication might get"
      ],
      "metadata": {
        "id": "6WRcAsz-Dhif"
      }
    },
    {
      "cell_type": "markdown",
      "source": [
        "G) Calculate the so called “impact” factor for each venue. To do so, calculate the total number of citations for the publications in the venue, and then divide this number by the number of publications for the venue. Plot a histogram of the results"
      ],
      "metadata": {
        "id": "oT2EMO2lQfOl"
      }
    },
    {
      "cell_type": "code",
      "source": [
        "impact_factor = {}\n",
        "for v in cv_count.keys():\n",
        "  impact_factor[v] = 0\n",
        "  if v != 'None' and pub_venues.get(v) != None:\n",
        "    impact_factor[v] = cv_count[v]/pub_venues[v]"
      ],
      "metadata": {
        "id": "2IODXza_IIwh"
      },
      "execution_count": 67,
      "outputs": []
    },
    {
      "cell_type": "code",
      "source": [
        "plt.title('Impact Factors')\n",
        "plt.hist(list(impact_factor.values()), bins = 50, log = True)\n",
        "plt.show()"
      ],
      "metadata": {
        "colab": {
          "base_uri": "https://localhost:8080/",
          "height": 281
        },
        "id": "9YwdYMplExLo",
        "outputId": "d81e528f-e27d-4f2a-c913-60ca36d594e4"
      },
      "execution_count": 68,
      "outputs": [
        {
          "output_type": "display_data",
          "data": {
            "text/plain": [
              "<Figure size 432x288 with 1 Axes>"
            ],
            "image/png": "[encoded data removed]"
          },
          "metadata": {
            "needs_background": "light"
          }
        }
      ]
    },
    {
      "cell_type": "markdown",
      "source": [
        "H) What is the venue with the highest apparent impact factor? Do you believe this number?(http://mdanderson.libanswers.com/faq/26159)"
      ],
      "metadata": {
        "id": "9asYNggpUs2t"
      }
    },
    {
      "cell_type": "code",
      "source": [
        "highest = max(list(impact_factor.values()))\n",
        "highest_i = list(impact_factor.values()).index(highest)\n",
        "highest_venue = list(impact_factor.keys())[highest_i]\n",
        "print(\"Venue with the highest apparent impact factor:\", highest_venue)"
      ],
      "metadata": {
        "colab": {
          "base_uri": "https://localhost:8080/"
        },
        "id": "rm15gxP-FOER",
        "outputId": "6abf63ad-08d5-4454-b00a-529619061c51"
      },
      "execution_count": 69,
      "outputs": [
        {
          "output_type": "stream",
          "name": "stdout",
          "text": [
            "Venue with the highest apparent impact factor: Challenge of Microprocessors\n",
            "\n"
          ]
        }
      ]
    },
    {
      "cell_type": "markdown",
      "source": [
        "In the data we can see that some of the names of venues are different, thereby making it ambiguous. So the answer might not be proper, that is it could be false."
      ],
      "metadata": {
        "id": "dkCRy479HsBD"
      }
    },
    {
      "cell_type": "markdown",
      "source": [
        "I) Now repeat the calculation from item b., but restrict the calculation to venues with at least 10 publications. How does your histogram change? List the citation counts for all publications from the venue with the highest impact factor. How does the impact factor (mean number of citations) compare to the median number of citations?"
      ],
      "metadata": {
        "id": "WRyb3leBU65X"
      }
    },
    {
      "cell_type": "code",
      "source": [
        "impact_factor_new = {}\n",
        "for v in cv_count.keys():\n",
        "  impact_factor_new[v] = 0\n",
        "  if v != 'None' and pub_venues.get(v) != None and pub_venues[v] > 10:\n",
        "    impact_factor_new[v] = cv_count[v]/pub_venues[v]"
      ],
      "metadata": {
        "id": "bSCLpGWqJ-7m"
      },
      "execution_count": 70,
      "outputs": []
    },
    {
      "cell_type": "code",
      "source": [
        "plt.title('Impact Factors with atleast 10 publications')\n",
        "plt.hist(list(impact_factor_new.values()), bins = 50, log = True)\n",
        "plt.show()"
      ],
      "metadata": {
        "colab": {
          "base_uri": "https://localhost:8080/",
          "height": 281
        },
        "id": "c_lEDvmgKikg",
        "outputId": "1d56389d-c21d-4bd5-f958-0f65572494bf"
      },
      "execution_count": 71,
      "outputs": [
        {
          "output_type": "display_data",
          "data": {
            "text/plain": [
              "<Figure size 432x288 with 1 Axes>"
            ],
            "image/png": "[encoded data removed]"
          },
          "metadata": {
            "needs_background": "light"
          }
        }
      ]
    },
    {
      "cell_type": "code",
      "source": [
        "print('Citation for highest impact factor:', highest)"
      ],
      "metadata": {
        "colab": {
          "base_uri": "https://localhost:8080/"
        },
        "id": "NcVwxXuUvODa",
        "outputId": "102a5b9c-a38c-4e0b-9e38-af31ac464b44"
      },
      "execution_count": 72,
      "outputs": [
        {
          "output_type": "stream",
          "name": "stdout",
          "text": [
            "Citation for highest impact factor: 7459.0\n"
          ]
        }
      ]
    },
    {
      "cell_type": "code",
      "source": [
        "median = np.median(list(cv_count.values()))\n",
        "mean = np.mean(list(cv_count.values()))\n",
        "print(\"Median:\", median, 'Mean:', mean)"
      ],
      "metadata": {
        "colab": {
          "base_uri": "https://localhost:8080/"
        },
        "id": "q_6Hbj7myFud",
        "outputId": "c88ba5c2-dbda-4698-bf84-31803c6e4298"
      },
      "execution_count": 73,
      "outputs": [
        {
          "output_type": "stream",
          "name": "stdout",
          "text": [
            "Median: 5.0 Mean: 111.52370135485731\n"
          ]
        }
      ]
    },
    {
      "cell_type": "markdown",
      "source": [
        "We can see the x-axis is reduced on a large scale, although the shape of the histogram remains roughly the same."
      ],
      "metadata": {
        "id": "EzZn9g04uvqK"
      }
    },
    {
      "cell_type": "markdown",
      "source": [
        "J) Finally, construct a list of publications for each publication year. Use this list to plot the average number of references and average number of citations per publication as a function of time. Explain the differences you see in the trends."
      ],
      "metadata": {
        "id": "mU1fy5xnVBls"
      }
    },
    {
      "cell_type": "code",
      "source": [
        "years_pub = {}\n",
        "times = {}\n",
        "refs = references\n",
        "cits = citations\n",
        "with open(\"acm.txt\", \"r\", newline = '') as f:\n",
        "  val = 0\n",
        "  time = 0\n",
        "  for text in f:\n",
        "    if text.startswith(\"#index\"):\n",
        "      val = int(text[6:])\n",
        "    elif text.startswith(\"#t\"):\n",
        "      time = int(text[2:])\n",
        "      if years_pub.get(time) == None:\n",
        "        years_pub[time] = {\"cits\":0, \"refs\":0, \"pubs\":0}\n",
        "        years_pub[time][\"pubs\"] = 1\n",
        "        if refs.get(val) != None:\n",
        "          references = refs.get(val)\n",
        "          years_pub[time][\"refs\"] = references\n",
        "        if cits.get(val) != None:\n",
        "          citations = cits.get(val)\n",
        "          years_pub[time][\"cits\"] = citations\n",
        "      else:\n",
        "        years_pub[time][\"pubs\"] += 1\n",
        "        if cits.get(val) != None:\n",
        "          citations = cits.get(val)\n",
        "          years_pub[time][\"cits\"] += citations\n",
        "        if refs.get(val) != None:\n",
        "          references = refs.get(val)\n",
        "          years_pub[time][\"refs\"] += references\n",
        "\n",
        "for time in years_pub.keys():\n",
        "  times[time] = {}\n",
        "  times[time][\"cits\"] = years_pub[time][\"cits\"]/years_pub[time][\"pubs\"]\n",
        "  times[time][\"refs\"] = years_pub[time][\"refs\"]/years_pub[time][\"pubs\"]"
      ],
      "metadata": {
        "id": "hUSsbkzXKvWP"
      },
      "execution_count": 74,
      "outputs": []
    },
    {
      "cell_type": "code",
      "source": [
        "average_time = collections.OrderedDict(sorted(times.items()))\n",
        "\n",
        "avg_t = list(average_time.keys())\n",
        "avg_cits = list([average_time[c][\"cits\"] for c in avg_t])\n",
        "avg_refs = list([average_time[r][\"refs\"] for r in avg_t])\n",
        "fig, axes = plt.subplots()\n",
        "plt.plot(avg_t, avg_cits, label = \"Average Citations\")\n",
        "plt.plot(avg_t, avg_refs, label = \"Average References\")\n",
        "axes.legend(loc = \"upper left\")\n",
        "plt.show()"
      ],
      "metadata": {
        "colab": {
          "base_uri": "https://localhost:8080/",
          "height": 265
        },
        "id": "qxZZDcRPLvpY",
        "outputId": "041bf369-ff3a-4fcd-e3dd-8e16090b4fa0"
      },
      "execution_count": 75,
      "outputs": [
        {
          "output_type": "display_data",
          "data": {
            "text/plain": [
              "<Figure size 432x288 with 1 Axes>"
            ],
            "image/png": "[encoded data removed]"
          },
          "metadata": {
            "needs_background": "light"
          }
        }
      ]
    },
    {
      "cell_type": "markdown",
      "source": [
        "We can see a spike in average citations at 1970 and around 2015. The average number of references have been increasing slowly with a slight dip in late 1980s and a sudden dip around 2015. Avergae citations reduced for first time than average refernce between the year 2003-2012."
      ],
      "metadata": {
        "id": "7PGcrwWSy9py"
      }
    }
  ],
  "metadata": {
    "colab": {
      "name": "USML_HW_1_(Problem 1).ipynb",
      "provenance": [],
      "collapsed_sections": []
    },
    "kernelspec": {
      "display_name": "Python 3",
      "name": "python3"
    },
    "language_info": {
      "name": "python"
    },
    "accelerator": "GPU"
  },
  "nbformat": 4,
  "nbformat_minor": 0
}