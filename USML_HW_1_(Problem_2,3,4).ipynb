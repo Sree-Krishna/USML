{
  "nbformat": 4,
  "nbformat_minor": 0,
  "metadata": {
    "colab": {
      "name": "USML_HW_1_(Problem_2,3,4).ipynb",
      "provenance": []
    },
    "kernelspec": {
      "name": "python3",
      "display_name": "Python 3"
    },
    "language_info": {
      "name": "python"
    }
  },
  "cells": [
    {
      "cell_type": "markdown",
      "source": [
        "PROBLEM 2 : Kosarak Association Rules"
      ],
      "metadata": {
        "id": "A_Dr6HYbr4Qq"
      }
    },
    {
      "cell_type": "code",
      "source": [
        "%%timeit\n",
        "lst = []\n",
        "with open(\"kosarak.dat\", 'r') as datFile:\n",
        "    for data in datFile:\n",
        "      s = ''\n",
        "      val = sorted(set(data.split()), key=int)\n",
        "      for i in val:\n",
        "        s = s + ' ' + str(int(i)-1) + ' ' + '1,'\n",
        "      s = '{'+s[1:-1] + '}\\n'\n",
        "      lst.append(s)\n",
        "with open('korsarak.arff', 'w') as f:\n",
        "  f.write('@relation korsarak\\n')\n",
        "  for i in range(41270):\n",
        "    f.write('@attribute '+str(i+1)+' numeric\\n')\n",
        "  f.write('@data\\n')\n",
        "  f.writelines(lst)"
      ],
      "metadata": {
        "id": "sHi3gZEIM64o",
        "colab": {
          "base_uri": "https://localhost:8080/"
        },
        "outputId": "eff743b8-4bfe-4992-bdb4-f18e2ad97943"
      },
      "execution_count": null,
      "outputs": [
        {
          "output_type": "stream",
          "name": "stdout",
          "text": [
            "1 loop, best of 5: 10 s per loop\n"
          ]
        }
      ]
    },
    {
      "cell_type": "markdown",
      "source": [
        "B) On average to convert dat file to arff it takes 10sec\n",
        "\n",
        "C) On average to upload the file to weka it takes 10sec\n",
        "\n",
        "D) FPGrowth found 2 rules (displaying top 2)\n",
        "\n",
        "1. [11=1, 218=1, 148=1]: 50098 ==> [6=1]: 49866   <conf:(1)> lift:(1.64) lev:(0.02) conv:(84.4) \n",
        "2. [11=1, 148=1]: 55759 ==> [6=1]: 55230   <conf:(0.99)> lift:(1.63) lev:(0.02) conv:(41.3) \n",
        "\n",
        "E) The time for algorithm to run was 4 sec on average over 5 runs. In comparison the total time to convert and upload was 20sec, that is 5 time more"
      ],
      "metadata": {
        "id": "4Z_1O5CotB0o"
      }
    },
    {
      "cell_type": "markdown",
      "source": [
        "PROBLEM 3 MNIST, 20 NG . Parse, normalize features, Compute pairwaise similarity matrices"
      ],
      "metadata": {
        "id": "jqj_OvftONwE"
      }
    },
    {
      "cell_type": "code",
      "source": [
        "from sklearn.datasets import fetch_20newsgroups\n",
        "from sklearn.feature_extraction.text import TfidfVectorizer\n",
        "from sklearn.metrics.pairwise import cosine_similarity, euclidean_distances, manhattan_distances"
      ],
      "metadata": {
        "id": "DtEG67_8cx_O"
      },
      "execution_count": 19,
      "outputs": []
    },
    {
      "cell_type": "code",
      "source": [
        "# 20NG TF Normalization\n",
        "newsgroups_train = fetch_20newsgroups(subset='train')\n",
        "vectorizer = TfidfVectorizer()\n",
        "vectors = vectorizer.fit_transform(newsgroups_train.data)"
      ],
      "metadata": {
        "id": "s8aelkBFujdz"
      },
      "execution_count": null,
      "outputs": []
    },
    {
      "cell_type": "code",
      "source": [
        "# 20NG train cosine similarity\n",
        "cosine_sim = cosine_similarity(vectors, vectors)\n",
        "print(cosine_sim, cosine_sim.shape)"
      ],
      "metadata": {
        "id": "F03XbiZ9tFV9",
        "colab": {
          "base_uri": "https://localhost:8080/"
        },
        "outputId": "981b1100-a4a1-4299-bb4f-dc3a59eac315"
      },
      "execution_count": null,
      "outputs": [
        {
          "output_type": "stream",
          "name": "stdout",
          "text": [
            "[[1.         0.04405974 0.11017033 ... 0.04433678 0.04457107 0.0329325 ]\n",
            " [0.04405974 1.         0.06242113 ... 0.07373268 0.06959306 0.02439956]\n",
            " [0.11017033 0.06242113 1.         ... 0.07569182 0.06214891 0.02357985]\n",
            " ...\n",
            " [0.04433678 0.07373268 0.07569182 ... 1.         0.02909961 0.00716986]\n",
            " [0.04457107 0.06959306 0.06214891 ... 0.02909961 1.         0.02428174]\n",
            " [0.0329325  0.02439956 0.02357985 ... 0.00716986 0.02428174 1.        ]] (11314, 11314)\n"
          ]
        }
      ]
    },
    {
      "cell_type": "code",
      "source": [
        "# 20NG test cosine similarity\n",
        "newsgroups_test = fetch_20newsgroups(subset='test')\n",
        "vectors_test = vectorizer.transform(newsgroups_test.data)\n",
        "cosine_sim = cosine_similarity(vectors, vectors_test)\n",
        "print(cosine_sim, cosine_sim.shape)"
      ],
      "metadata": {
        "colab": {
          "base_uri": "https://localhost:8080/"
        },
        "id": "oY1XMEV8V8I4",
        "outputId": "cf99d0f9-d410-469e-ae9f-bcd86f9d6f10"
      },
      "execution_count": null,
      "outputs": [
        {
          "output_type": "stream",
          "name": "stdout",
          "text": [
            "[[0.08332137 0.03527536 0.01853714 ... 0.08742758 0.05421031 0.06243403]\n",
            " [0.03270318 0.0265544  0.0138742  ... 0.04038842 0.05893349 0.02222038]\n",
            " [0.12736379 0.0644189  0.04219289 ... 0.1020233  0.06047534 0.07989148]\n",
            " ...\n",
            " [0.04359934 0.01646304 0.02089325 ... 0.05089863 0.02096217 0.04041883]\n",
            " [0.04901693 0.03379068 0.03787461 ... 0.05323483 0.03579556 0.07712006]\n",
            " [0.01811485 0.03240313 0.00738827 ... 0.02692533 0.01564765 0.00873507]] (11314, 7532)\n"
          ]
        }
      ]
    },
    {
      "cell_type": "code",
      "source": [
        "# 20NG train-test cosine similarity\n",
        "cosine_sim = cosine_similarity(vectors_test, vectors_test)\n",
        "print(cosine_sim, cosine_sim.shape)"
      ],
      "metadata": {
        "colab": {
          "base_uri": "https://localhost:8080/"
        },
        "id": "Kq7G_SmmWsSh",
        "outputId": "867580b4-28c1-48d5-f606-0aeafd75d118"
      },
      "execution_count": null,
      "outputs": [
        {
          "output_type": "stream",
          "name": "stdout",
          "text": [
            "[[1.         0.06026317 0.03807753 ... 0.09753406 0.07753718 0.04648379]\n",
            " [0.06026317 1.         0.02216763 ... 0.04269044 0.0639384  0.03240872]\n",
            " [0.03807753 0.02216763 1.         ... 0.03533053 0.0225079  0.07470526]\n",
            " ...\n",
            " [0.09753406 0.04269044 0.03533053 ... 1.         0.0552143  0.07130428]\n",
            " [0.07753718 0.0639384  0.0225079  ... 0.0552143  1.         0.05331892]\n",
            " [0.04648379 0.03240872 0.07470526 ... 0.07130428 0.05331892 1.        ]] (7532, 7532)\n"
          ]
        }
      ]
    },
    {
      "cell_type": "code",
      "source": [
        "# 20NG train Euclidean distance\n",
        "euclidean_distances(vectors)"
      ],
      "metadata": {
        "colab": {
          "base_uri": "https://localhost:8080/"
        },
        "id": "ixnCnbrFXNMc",
        "outputId": "b2a198a2-e54e-4729-c391-d2a87ff6bebf"
      },
      "execution_count": null,
      "outputs": [
        {
          "output_type": "execute_result",
          "data": {
            "text/plain": [
              "array([[0.        , 1.38270768, 1.33403873, ..., 1.3825073 , 1.38233782,\n",
              "        1.39073182],\n",
              "       [1.38270768, 0.        , 1.36936399, ..., 1.36107848, 1.36411652,\n",
              "        1.39685392],\n",
              "       [1.33403873, 1.36936399, 0.        , ..., 1.35963832, 1.36956277,\n",
              "        1.39744063],\n",
              "       ...,\n",
              "       [1.3825073 , 1.36107848, 1.35963832, ..., 0.        , 1.39348512,\n",
              "        1.40913459],\n",
              "       [1.38233782, 1.36411652, 1.36956277, ..., 1.39348512, 0.        ,\n",
              "        1.39693826],\n",
              "       [1.39073182, 1.39685392, 1.39744063, ..., 1.40913459, 1.39693826,\n",
              "        0.        ]])"
            ]
          },
          "metadata": {},
          "execution_count": 66
        }
      ]
    },
    {
      "cell_type": "code",
      "source": [
        "# 20NG test Euclidean distance\n",
        "euclidean_distances(vectors_test)"
      ],
      "metadata": {
        "colab": {
          "base_uri": "https://localhost:8080/"
        },
        "id": "CSH5-PNPc6hR",
        "outputId": "360a5540-7bda-4657-dd4f-36acb4083ee5"
      },
      "execution_count": null,
      "outputs": [
        {
          "output_type": "execute_result",
          "data": {
            "text/plain": [
              "array([[0.        , 1.37093897, 1.38702738, ..., 1.34347753, 1.3582804 ,\n",
              "        1.38095345],\n",
              "       [1.37093897, 0.        , 1.39845083, ..., 1.38369762, 1.36825553,\n",
              "        1.3911084 ],\n",
              "       [1.38702738, 1.39845083, 0.        , ..., 1.38900646, 1.3982075 ,\n",
              "        1.36036373],\n",
              "       ...,\n",
              "       [1.34347753, 1.38369762, 1.38900646, ..., 0.        , 1.37461682,\n",
              "        1.36286149],\n",
              "       [1.3582804 , 1.36825553, 1.3982075 , ..., 1.37461682, 0.        ,\n",
              "        1.37599497],\n",
              "       [1.38095345, 1.3911084 , 1.36036373, ..., 1.36286149, 1.37599497,\n",
              "        0.        ]])"
            ]
          },
          "metadata": {},
          "execution_count": 67
        }
      ]
    },
    {
      "cell_type": "code",
      "source": [
        "# 20NG train-test Euclidean distance\n",
        "euclidean_distances(vectors, vectors_test)"
      ],
      "metadata": {
        "colab": {
          "base_uri": "https://localhost:8080/"
        },
        "id": "YFCWwQqDdQp3",
        "outputId": "559ddf28-d0a4-42bb-8b37-f8ba5fd47659"
      },
      "execution_count": null,
      "outputs": [
        {
          "output_type": "execute_result",
          "data": {
            "text/plain": [
              "array([[1.35401524, 1.38904618, 1.40104451, ..., 1.35097921, 1.375347  ,\n",
              "        1.36935457],\n",
              "       [1.3908967 , 1.39531043, 1.40436876, ..., 1.3853603 , 1.37190853,\n",
              "        1.39841312],\n",
              "       [1.32108759, 1.36790431, 1.38405716, ..., 1.34013186, 1.3707842 ,\n",
              "        1.35654599],\n",
              "       ...,\n",
              "       [1.38304061, 1.40252413, 1.39936182, ..., 1.37775278, 1.39931257,\n",
              "        1.38533835],\n",
              "       [1.37911788, 1.39011461, 1.38717367, ..., 1.37605608, 1.38867162,\n",
              "        1.35858745],\n",
              "       [1.40134589, 1.39111241, 1.40897958, ..., 1.39504456, 1.40310538,\n",
              "        1.40802339]])"
            ]
          },
          "metadata": {},
          "execution_count": 68
        }
      ]
    },
    {
      "cell_type": "code",
      "source": [
        "# 20NG train Manhattan distance\n",
        "manhattan_distances(vectors)"
      ],
      "metadata": {
        "colab": {
          "base_uri": "https://localhost:8080/"
        },
        "id": "rJ_gFyiFdUBf",
        "outputId": "910d912e-ea4a-4960-c3d2-69e3a04d9452"
      },
      "execution_count": null,
      "outputs": [
        {
          "output_type": "execute_result",
          "data": {
            "text/plain": [
              "array([[ 0.        , 13.85549874, 16.84045561, ..., 12.66360256,\n",
              "        14.90240393, 13.42313463],\n",
              "       [13.85549874,  0.        , 17.46950468, ..., 12.50432381,\n",
              "        14.62730176, 13.65753488],\n",
              "       [16.84045561, 17.46950468,  0.        , ..., 15.86021818,\n",
              "        18.31807155, 17.77787686],\n",
              "       ...,\n",
              "       [12.66360256, 12.50432381, 15.86021818, ...,  0.        ,\n",
              "        13.62591937, 12.55418146],\n",
              "       [14.90240393, 14.62730176, 18.31807155, ..., 13.62591937,\n",
              "         0.        , 14.60558791],\n",
              "       [13.42313463, 13.65753488, 17.77787686, ..., 12.55418146,\n",
              "        14.60558791,  0.        ]])"
            ]
          },
          "metadata": {},
          "execution_count": 76
        }
      ]
    },
    {
      "cell_type": "code",
      "source": [
        "# 20NG test Manhattan distance\n",
        "manhattan_distances(vectors_test)"
      ],
      "metadata": {
        "colab": {
          "base_uri": "https://localhost:8080/"
        },
        "id": "jhHqDCWju8Fr",
        "outputId": "49ed61f6-7183-404c-ce7e-7b7ec959f41e"
      },
      "execution_count": null,
      "outputs": [
        {
          "output_type": "execute_result",
          "data": {
            "text/plain": [
              "array([[ 0.        , 14.21468735, 12.35637429, ..., 14.67067487,\n",
              "        12.90645112, 15.09292419],\n",
              "       [14.21468735,  0.        , 13.46918923, ..., 16.12957282,\n",
              "        14.2308659 , 16.0853303 ],\n",
              "       [12.35637429, 13.46918923,  0.        , ..., 14.00319158,\n",
              "        12.9351333 , 13.22141738],\n",
              "       ...,\n",
              "       [14.67067487, 16.12957282, 14.00319158, ...,  0.        ,\n",
              "        15.6628088 , 16.15781529],\n",
              "       [12.90645112, 14.2308659 , 12.9351333 , ..., 15.6628088 ,\n",
              "         0.        , 15.14397565],\n",
              "       [15.09292419, 16.0853303 , 13.22141738, ..., 16.15781529,\n",
              "        15.14397565,  0.        ]])"
            ]
          },
          "metadata": {},
          "execution_count": 77
        }
      ]
    },
    {
      "cell_type": "code",
      "source": [
        "# 20NG train-test Manhattan distance\n",
        "manhattan_distances(vectors, vectors_test)"
      ],
      "metadata": {
        "colab": {
          "base_uri": "https://localhost:8080/"
        },
        "id": "PiaiFASAu_6v",
        "outputId": "0189903e-f6d0-4982-e151-17635ffcb234"
      },
      "execution_count": null,
      "outputs": [
        {
          "output_type": "execute_result",
          "data": {
            "text/plain": [
              "array([[12.71297385, 14.7002281 , 12.93927169, ..., 14.79376611,\n",
              "        13.86908769, 15.1043801 ],\n",
              "       [13.95192205, 14.83970537, 12.91660796, ..., 15.45114039,\n",
              "        13.96641189, 15.53087325],\n",
              "       [16.41700187, 17.76034081, 16.57580749, ..., 18.38890311,\n",
              "        17.56438963, 18.48815136],\n",
              "       ...,\n",
              "       [12.42127111, 13.55798846, 11.1795564 , ..., 13.71112457,\n",
              "        13.04067468, 13.79134487],\n",
              "       [14.53616317, 15.53642593, 13.32174769, ..., 16.08572709,\n",
              "        15.01894496, 15.92780906],\n",
              "       [13.58191679, 14.02842066, 12.44107386, ..., 15.14638017,\n",
              "        13.98768356, 15.36176242]])"
            ]
          },
          "metadata": {},
          "execution_count": 78
        }
      ]
    },
    {
      "cell_type": "markdown",
      "source": [
        "MINST"
      ],
      "metadata": {
        "id": "sNm0JLlHPLXu"
      }
    },
    {
      "cell_type": "code",
      "source": [
        "# importing MINST dataset\n",
        "from sklearn.datasets import fetch_openml, load_digits\n",
        "from sklearn.model_selection import train_test_split\n",
        "import matplotlib.pyplot as plt\n",
        "import numpy as np"
      ],
      "metadata": {
        "id": "dxxViE7Wvkzr"
      },
      "execution_count": null,
      "outputs": []
    },
    {
      "cell_type": "code",
      "source": [
        "digits= load_digits() # small minst dataset to implement scaling and normalization\n",
        "minst = fetch_openml('mnist_784') # actual dataset used in finding similarity and distances\n",
        "X_train_mnist, X_test_mnist, y_train_mnist, y_test_mnist = train_test_split(minst.data[:10000], minst.target[:10000], test_size = 0.2)"
      ],
      "metadata": {
        "id": "HCpRsX0qnTsA"
      },
      "execution_count": null,
      "outputs": []
    },
    {
      "cell_type": "code",
      "source": [
        "# normalizing with 0 mean and unit variance\n",
        "dig_mean = np.reshape(digits.data.mean(axis=1), (-1,1))\n",
        "dig_std = np.reshape(digits.data.std(axis=1), (-1,1))\n",
        "digits_zeromean_univar = (digits.data - dig_mean) / dig_std\n",
        "digits_zeromean_univar[0]"
      ],
      "metadata": {
        "colab": {
          "base_uri": "https://localhost:8080/"
        },
        "id": "6GGP6xQmwDG3",
        "outputId": "fa014055-833a-4d42-bee1-74d227f2e904"
      },
      "execution_count": null,
      "outputs": [
        {
          "output_type": "execute_result",
          "data": {
            "text/plain": [
              "array([-0.88626612, -0.88626612,  0.07837728,  1.6218067 ,  0.85009199,\n",
              "       -0.69333744, -0.88626612, -0.88626612, -0.88626612, -0.88626612,\n",
              "        1.6218067 ,  2.00766406,  1.04302067,  2.00766406,  0.07837728,\n",
              "       -0.88626612, -0.88626612, -0.30748008,  2.00766406, -0.50040876,\n",
              "       -0.88626612,  1.23594935,  0.65716331, -0.88626612, -0.88626612,\n",
              "       -0.1145514 ,  1.42887803, -0.88626612, -0.88626612,  0.65716331,\n",
              "        0.65716331, -0.88626612, -0.88626612,  0.07837728,  0.65716331,\n",
              "       -0.88626612, -0.88626612,  0.85009199,  0.65716331, -0.88626612,\n",
              "       -0.88626612, -0.1145514 ,  1.23594935, -0.88626612, -0.69333744,\n",
              "        1.42887803,  0.46423463, -0.88626612, -0.88626612, -0.50040876,\n",
              "        1.81473538,  0.07837728,  1.04302067,  1.42887803, -0.88626612,\n",
              "       -0.88626612, -0.88626612, -0.88626612,  0.27130595,  1.6218067 ,\n",
              "        1.04302067, -0.88626612, -0.88626612, -0.88626612])"
            ]
          },
          "metadata": {},
          "execution_count": 10
        }
      ]
    },
    {
      "cell_type": "code",
      "source": [
        "img = np.reshape(digits_zeromean_univar[0], (8,8))\n",
        "plt.gray()\n",
        "plt.matshow(img)\n",
        "plt.show()"
      ],
      "metadata": {
        "colab": {
          "base_uri": "https://localhost:8080/",
          "height": 292
        },
        "id": "eebJImORxa50",
        "outputId": "b6b91b3d-3d97-4367-a611-d343b1f4770c"
      },
      "execution_count": null,
      "outputs": [
        {
          "output_type": "display_data",
          "data": {
            "text/plain": [
              "<Figure size 432x288 with 0 Axes>"
            ]
          },
          "metadata": {}
        },
        {
          "output_type": "display_data",
          "data": {
            "text/plain": [
              "<Figure size 288x288 with 1 Axes>"
            ],
            "image/png": "[encoded data removed]"
          },
          "metadata": {
            "needs_background": "light"
          }
        }
      ]
    },
    {
      "cell_type": "code",
      "source": [
        "# Shift-and-scale normalization\n",
        "dig_min = np.reshape(digits.data.min(axis=1), (-1,1))\n",
        "dig_new = (digits.data - dig_min)\n",
        "dig_max = np.reshape(dig_new.max(axis=1), (-1,1))\n",
        "digits_shift_scale = dig_new/dig_max\n",
        "digits_shift_scale[0]"
      ],
      "metadata": {
        "colab": {
          "base_uri": "https://localhost:8080/"
        },
        "id": "iGjcMP1zxkSO",
        "outputId": "816acee4-77d3-47b1-ff71-f5f7024f3017"
      },
      "execution_count": null,
      "outputs": [
        {
          "output_type": "execute_result",
          "data": {
            "text/plain": [
              "array([0.        , 0.        , 0.33333333, 0.86666667, 0.6       ,\n",
              "       0.06666667, 0.        , 0.        , 0.        , 0.        ,\n",
              "       0.86666667, 1.        , 0.66666667, 1.        , 0.33333333,\n",
              "       0.        , 0.        , 0.2       , 1.        , 0.13333333,\n",
              "       0.        , 0.73333333, 0.53333333, 0.        , 0.        ,\n",
              "       0.26666667, 0.8       , 0.        , 0.        , 0.53333333,\n",
              "       0.53333333, 0.        , 0.        , 0.33333333, 0.53333333,\n",
              "       0.        , 0.        , 0.6       , 0.53333333, 0.        ,\n",
              "       0.        , 0.26666667, 0.73333333, 0.        , 0.06666667,\n",
              "       0.8       , 0.46666667, 0.        , 0.        , 0.13333333,\n",
              "       0.93333333, 0.33333333, 0.66666667, 0.8       , 0.        ,\n",
              "       0.        , 0.        , 0.        , 0.4       , 0.86666667,\n",
              "       0.66666667, 0.        , 0.        , 0.        ])"
            ]
          },
          "metadata": {},
          "execution_count": 16
        }
      ]
    },
    {
      "cell_type": "code",
      "source": [
        "img = np.reshape(digits_shift_scale[8], (8,8))\n",
        "plt.gray()\n",
        "plt.matshow(img)\n",
        "plt.show()"
      ],
      "metadata": {
        "colab": {
          "base_uri": "https://localhost:8080/",
          "height": 292
        },
        "id": "f7olfcLePIEl",
        "outputId": "64955677-4d72-4bb6-ab41-98e709683d87"
      },
      "execution_count": null,
      "outputs": [
        {
          "output_type": "display_data",
          "data": {
            "text/plain": [
              "<Figure size 432x288 with 0 Axes>"
            ]
          },
          "metadata": {}
        },
        {
          "output_type": "display_data",
          "data": {
            "text/plain": [
              "<Figure size 288x288 with 1 Axes>"
            ],
            "image/png": "[encoded data removed]"
          },
          "metadata": {
            "needs_background": "light"
          }
        }
      ]
    },
    {
      "cell_type": "code",
      "source": [
        "# MINST train cosine similarity\n",
        "cosine_sim = cosine_similarity(X_train_mnist, X_train_mnist)\n",
        "print(cosine_sim, cosine_sim.shape)"
      ],
      "metadata": {
        "colab": {
          "base_uri": "https://localhost:8080/"
        },
        "id": "b4ie6rFhQR6N",
        "outputId": "4de27151-72ea-4a95-beae-a867391019d8"
      },
      "execution_count": null,
      "outputs": [
        {
          "output_type": "stream",
          "name": "stdout",
          "text": [
            "[[1.         0.48544571 0.31443747 ... 0.40750671 0.25894958 0.4775953 ]\n",
            " [0.48544571 1.         0.41832289 ... 0.39803778 0.38671926 0.5004291 ]\n",
            " [0.31443747 0.41832289 1.         ... 0.42896853 0.40301695 0.46133038]\n",
            " ...\n",
            " [0.40750671 0.39803778 0.42896853 ... 1.         0.31518152 0.61030537]\n",
            " [0.25894958 0.38671926 0.40301695 ... 0.31518152 1.         0.56011053]\n",
            " [0.4775953  0.5004291  0.46133038 ... 0.61030537 0.56011053 1.        ]] (8000, 8000)\n"
          ]
        }
      ]
    },
    {
      "cell_type": "code",
      "source": [
        "# MINST train cosine similarity\n",
        "cosine_sim = cosine_similarity(X_test_mnist, X_test_mnist)\n",
        "print(cosine_sim, cosine_sim.shape)"
      ],
      "metadata": {
        "colab": {
          "base_uri": "https://localhost:8080/"
        },
        "id": "6faK1NdSQtpx",
        "outputId": "9a4a155c-ddab-49e5-aa03-d28ad018a205"
      },
      "execution_count": null,
      "outputs": [
        {
          "output_type": "stream",
          "name": "stdout",
          "text": [
            "[[1.         0.40557955 0.36857973 ... 0.21236065 0.2935817  0.372093  ]\n",
            " [0.40557955 1.         0.31055538 ... 0.2835147  0.27776933 0.40281696]\n",
            " [0.36857973 0.31055538 1.         ... 0.44656993 0.40061686 0.49365411]\n",
            " ...\n",
            " [0.21236065 0.2835147  0.44656993 ... 1.         0.34214098 0.44460156]\n",
            " [0.2935817  0.27776933 0.40061686 ... 0.34214098 1.         0.4409534 ]\n",
            " [0.372093   0.40281696 0.49365411 ... 0.44460156 0.4409534  1.        ]] (2000, 2000)\n"
          ]
        }
      ]
    },
    {
      "cell_type": "code",
      "source": [
        "# MINST train-test cosine similarity\n",
        "cosine_sim = cosine_similarity(X_train_mnist, X_test_mnist)\n",
        "print(cosine_sim, cosine_sim.shape)"
      ],
      "metadata": {
        "colab": {
          "base_uri": "https://localhost:8080/"
        },
        "id": "GFrfytHQZ22k",
        "outputId": "3e293d69-7adc-4f9a-8d37-ec4bf4526eaf"
      },
      "execution_count": null,
      "outputs": [
        {
          "output_type": "stream",
          "name": "stdout",
          "text": [
            "[[0.35281997 0.13536135 0.32864443 ... 0.34199448 0.22698638 0.31151372]\n",
            " [0.33801574 0.39202261 0.46820998 ... 0.45667518 0.43204503 0.46754231]\n",
            " [0.37960721 0.49547332 0.56192155 ... 0.29905564 0.31536006 0.47333594]\n",
            " ...\n",
            " [0.27200885 0.31937312 0.71093665 ... 0.56210754 0.33379846 0.56662556]\n",
            " [0.56038252 0.29129376 0.3975273  ... 0.28771629 0.51343518 0.46698984]\n",
            " [0.37364428 0.29434379 0.59338887 ... 0.48263877 0.67017293 0.68076644]] (8000, 2000)\n"
          ]
        }
      ]
    },
    {
      "cell_type": "code",
      "source": [
        "# MINST train Euclidean distance\n",
        "euclidean_distances(X_train_mnist)"
      ],
      "metadata": {
        "colab": {
          "base_uri": "https://localhost:8080/"
        },
        "id": "1JPbliDuZ6EG",
        "outputId": "1c07b715-9f9c-4e2f-af40-07005dfcac85"
      },
      "execution_count": null,
      "outputs": [
        {
          "output_type": "execute_result",
          "data": {
            "text/plain": [
              "array([[   0.        , 2361.25051615, 2428.67803548, ..., 2633.12229112,\n",
              "        2992.43429335, 2951.09538985],\n",
              "       [2361.25051615,    0.        , 2367.93390955, ..., 2745.64910358,\n",
              "        2817.64103462, 2939.13116414],\n",
              "       [2428.67803548, 2367.93390955,    0.        , ..., 2461.45363556,\n",
              "        2568.72886853, 2929.69093933],\n",
              "       ...,\n",
              "       [2633.12229112, 2745.64910358, 2461.45363556, ...,    0.        ,\n",
              "        3065.9396602 , 2657.61791836],\n",
              "       [2992.43429335, 2817.64103462, 2568.72886853, ..., 3065.9396602 ,\n",
              "           0.        , 2834.06227878],\n",
              "       [2951.09538985, 2939.13116414, 2929.69093933, ..., 2657.61791836,\n",
              "        2834.06227878,    0.        ]])"
            ]
          },
          "metadata": {},
          "execution_count": 23
        }
      ]
    },
    {
      "cell_type": "code",
      "source": [
        "# MINST test Euclidean distance\n",
        "euclidean_distances(X_test_mnist)"
      ],
      "metadata": {
        "colab": {
          "base_uri": "https://localhost:8080/"
        },
        "id": "FKwTQ6r3aCf4",
        "outputId": "8ae06539-0e55-400f-a39f-5bd3f18656f0"
      },
      "execution_count": null,
      "outputs": [
        {
          "output_type": "execute_result",
          "data": {
            "text/plain": [
              "array([[   0.        , 2168.07910372, 2605.63236087, ..., 2614.40069614,\n",
              "        3085.88496221, 2658.56841176],\n",
              "       [2168.07910372,    0.        , 2393.688994  , ..., 2062.91104995,\n",
              "        2851.50083289, 2326.3441276 ],\n",
              "       [2605.63236087, 2393.688994  ,    0.        , ..., 2267.39608362,\n",
              "        2891.80877653, 2433.6655481 ],\n",
              "       ...,\n",
              "       [2614.40069614, 2062.91104995, 2267.39608362, ...,    0.        ,\n",
              "        2831.79042304, 2340.43564321],\n",
              "       [3085.88496221, 2851.50083289, 2891.80877653, ..., 2831.79042304,\n",
              "           0.        , 2837.01216071],\n",
              "       [2658.56841176, 2326.3441276 , 2433.6655481 , ..., 2340.43564321,\n",
              "        2837.01216071,    0.        ]])"
            ]
          },
          "metadata": {},
          "execution_count": 24
        }
      ]
    },
    {
      "cell_type": "code",
      "source": [
        "# MINST train-test Euclidean distance\n",
        "euclidean_distances(X_train_mnist, X_test_mnist)"
      ],
      "metadata": {
        "colab": {
          "base_uri": "https://localhost:8080/"
        },
        "id": "-twenIJTaE1u",
        "outputId": "184cb355-d6f1-46de-bede-362eb1e429b6"
      },
      "execution_count": null,
      "outputs": [
        {
          "output_type": "execute_result",
          "data": {
            "text/plain": [
              "array([[2556.99726242, 2536.03588303, 2663.29551496, ..., 2366.38796481,\n",
              "        3201.77966138, 2760.4950643 ],\n",
              "       [2698.90292526, 2305.13643848, 2467.41869167, ..., 2282.43597939,\n",
              "        2838.20101473, 2520.83101377],\n",
              "       [2340.49652852, 1758.23462598, 2038.11089002, ..., 2228.89367176,\n",
              "        2891.87205803, 2292.3494498 ],\n",
              "       ...,\n",
              "       [2936.25101107, 2551.88694891, 1891.22076977, ..., 2174.78711602,\n",
              "        3149.28817354, 2351.90646073],\n",
              "       [2335.05331845, 2659.09289044, 2768.26841184, ..., 2774.03911292,\n",
              "        2727.99816715, 2650.67161301],\n",
              "       [3211.05449969, 3183.21692632, 2668.53386713, ..., 2881.08729476,\n",
              "        2519.45966429, 2409.4337509 ]])"
            ]
          },
          "metadata": {},
          "execution_count": 25
        }
      ]
    },
    {
      "cell_type": "code",
      "source": [
        "# MINST train Manhattan distance\n",
        "manhattan_distances(X_train_mnist)"
      ],
      "metadata": {
        "colab": {
          "base_uri": "https://localhost:8080/"
        },
        "id": "dqtcfJTQaHeJ",
        "outputId": "3f603fd4-e351-456b-a665-61216560612a"
      },
      "execution_count": null,
      "outputs": [
        {
          "output_type": "execute_result",
          "data": {
            "text/plain": [
              "array([[    0., 27572., 28233., ..., 33453., 41819., 40036.],\n",
              "       [27572.,     0., 27475., ..., 35933., 37897., 40022.],\n",
              "       [28233., 27475.,     0., ..., 29520., 31594., 38875.],\n",
              "       ...,\n",
              "       [33453., 35933., 29520., ...,     0., 43988., 33603.],\n",
              "       [41819., 37897., 31594., ..., 43988.,     0., 37719.],\n",
              "       [40036., 40022., 38875., ..., 33603., 37719.,     0.]])"
            ]
          },
          "metadata": {},
          "execution_count": 26
        }
      ]
    },
    {
      "cell_type": "code",
      "source": [
        "# MINST test Manhattan distance\n",
        "manhattan_distances(X_test_mnist)"
      ],
      "metadata": {
        "colab": {
          "base_uri": "https://localhost:8080/"
        },
        "id": "XZcsglLyaN3G",
        "outputId": "9d1d09ef-f6c8-49fb-b8dd-aa0e20e6c53f"
      },
      "execution_count": null,
      "outputs": [
        {
          "output_type": "execute_result",
          "data": {
            "text/plain": [
              "array([[    0., 23221., 33100., ..., 34031., 43900., 34326.],\n",
              "       [23221.,     0., 27129., ..., 22178., 36809., 26203.],\n",
              "       [33100., 27129.,     0., ..., 26415., 38884., 29788.],\n",
              "       ...,\n",
              "       [34031., 22178., 26415., ...,     0., 38359., 28443.],\n",
              "       [43900., 36809., 38884., ..., 38359.,     0., 38370.],\n",
              "       [34326., 26203., 29788., ..., 28443., 38370.,     0.]])"
            ]
          },
          "metadata": {},
          "execution_count": 27
        }
      ]
    },
    {
      "cell_type": "code",
      "source": [
        "# MINST train-test Manhattan distance\n",
        "manhattan_distances(X_test_mnist)"
      ],
      "metadata": {
        "colab": {
          "base_uri": "https://localhost:8080/"
        },
        "id": "k7g_id4BaRCg",
        "outputId": "98c31d5e-22bf-44e2-c9b0-e8ed28cb6835"
      },
      "execution_count": null,
      "outputs": [
        {
          "output_type": "execute_result",
          "data": {
            "text/plain": [
              "array([[    0., 23221., 33100., ..., 34031., 43900., 34326.],\n",
              "       [23221.,     0., 27129., ..., 22178., 36809., 26203.],\n",
              "       [33100., 27129.,     0., ..., 26415., 38884., 29788.],\n",
              "       ...,\n",
              "       [34031., 22178., 26415., ...,     0., 38359., 28443.],\n",
              "       [43900., 36809., 38884., ..., 38359.,     0., 38370.],\n",
              "       [34326., 26203., 29788., ..., 28443., 38370.,     0.]])"
            ]
          },
          "metadata": {},
          "execution_count": 28
        }
      ]
    },
    {
      "cell_type": "markdown",
      "source": [
        "PROBLEM 4: MNIST, 20 NG : Train and test KNN classification (supervised)"
      ],
      "metadata": {
        "id": "eq5cFqxsa8Kq"
      }
    },
    {
      "cell_type": "code",
      "source": [
        "import operator\n",
        "from operator import itemgetter\n",
        "from sklearn.metrics import accuracy_score, precision_recall_fscore_support\n",
        "\n",
        "class knn:\n",
        "  def __init__(self, N):\n",
        "    self.N = N\n",
        "\n",
        "  def fit(self, X_train, y_train):\n",
        "    self.X_train = X_train\n",
        "    self.y_train = y_train\n",
        "\n",
        "  def predict(self, X_test):\n",
        "    preds = [] \n",
        "    for x in range(len(X_test)):\n",
        "        result = np.array([np.sqrt(np.sum((X_test[x] - y)**2)) for y in self.X_train])\n",
        "        result = result.argsort()[:self.N]\n",
        "        count = {}\n",
        "        for val in result:\n",
        "            if self.y_train[val] in count:\n",
        "                count[self.y_train[val]] += 1\n",
        "            else:\n",
        "                count[self.y_train[val]] = 1\n",
        "        preds.append(sorted(count.items(), key = operator.itemgetter(1), reverse=True)[0][0]) \n",
        "    return preds"
      ],
      "metadata": {
        "id": "vmcAr9cUaTde"
      },
      "execution_count": null,
      "outputs": []
    },
    {
      "cell_type": "code",
      "source": [
        "# converting MINST data to numpy format\n",
        "X_train = np.array(X_train_mnist)\n",
        "X_test = np.array(X_test_mnist)\n",
        "y_train = np.array(y_train_mnist)\n",
        "y_test = np.array(y_test_mnist)"
      ],
      "metadata": {
        "id": "XVAX_CEUcJy0"
      },
      "execution_count": null,
      "outputs": []
    },
    {
      "cell_type": "code",
      "source": [
        "# KNN for MINST\n",
        "knn = knn(3) \n",
        "knn.fit(X_train, y_train) \n",
        "y_pred = knn.predict(X_train)"
      ],
      "metadata": {
        "id": "lJVCxg2qcTuL"
      },
      "execution_count": null,
      "outputs": []
    },
    {
      "cell_type": "code",
      "source": [
        "# MINST train Metrics\n",
        "precision, recall, fscore, _ = precision_recall_fscore_support(y_train, y_pred)\n",
        "print(\"F-score\\n\", fscore, '\\nRecall\\n', recall, '\\nPrecision\\n', precision)\n",
        "train_accuracy = accuracy_score(y_train, y_pred)\n",
        "print(\"The training accuracy is:\", train_accuracy)"
      ],
      "metadata": {
        "colab": {
          "base_uri": "https://localhost:8080/"
        },
        "id": "VujJa99dc0ii",
        "outputId": "3012eca3-8a9e-436e-d8d5-ecdf1a544439"
      },
      "execution_count": null,
      "outputs": [
        {
          "output_type": "stream",
          "name": "stdout",
          "text": [
            "F-score\n",
            " [0.99436443 0.9779978  0.97853535 0.97329377 0.97922078 0.97647059\n",
            " 0.98511166 0.98106713 0.97181208 0.96626353] \n",
            "Recall\n",
            " [0.99874214 0.99663677 0.96996245 0.97387173 0.96915167 0.96934307\n",
            " 0.9925     0.98502304 0.95263158 0.97183099] \n",
            "Precision\n",
            " [0.99002494 0.9600432  0.98726115 0.97271649 0.98950131 0.9837037\n",
            " 0.97783251 0.97714286 0.99178082 0.96075949]\n",
            "The training accuracy is: 0.9785\n"
          ]
        }
      ]
    },
    {
      "cell_type": "code",
      "source": [
        "# MINST Test Metrics\n",
        "y_pred_test = knn.predict(X_test)\n",
        "precision, recall, fscore, _ = precision_recall_fscore_support(y_test, y_pred_test)\n",
        "print(\"F-score\\n\", fscore, '\\nRecall\\n', recall, '\\nPrecision\\n', precision)\n",
        "test_accuracy = accuracy_score(y_test, y_pred_test)\n",
        "print(\"The test accuracy is:\", test_accuracy)"
      ],
      "metadata": {
        "colab": {
          "base_uri": "https://localhost:8080/"
        },
        "id": "Ha_Qvvy7dm_6",
        "outputId": "6ea1ec32-5814-4d99-9813-be57cedbb1e2"
      },
      "execution_count": null,
      "outputs": [
        {
          "output_type": "stream",
          "name": "stdout",
          "text": [
            "F-score\n",
            " [0.98067633 0.95833333 0.95466667 0.96605744 0.97014925 0.93593315\n",
            " 0.98604651 0.94607843 0.93447293 0.92964824] \n",
            "Recall\n",
            " [0.98543689 0.9787234  0.93229167 0.97368421 0.96534653 0.94382022\n",
            " 0.99065421 0.95544554 0.89130435 0.93908629] \n",
            "Precision\n",
            " [0.97596154 0.93877551 0.97814208 0.95854922 0.975      0.9281768\n",
            " 0.98148148 0.9368932  0.98203593 0.92039801]\n",
            "The test accuracy is: 0.957\n"
          ]
        }
      ]
    },
    {
      "cell_type": "code",
      "source": [
        "# 20NG KNN\n",
        "train = fetch_20newsgroups(subset='train')\n",
        "test = fetch_20newsgroups(subset = 'test')\n",
        "vectorizer_tfidf = TfidfVectorizer(sublinear_tf = True, smooth_idf = True, max_df = 0.5)\n",
        "vector_train = vectorizer_tfidf.fit_transform(train.data)\n",
        "vector_test = vectorizer_tfidf.transform(test.data)\n",
        "cs_train = cosine_similarity(vector_train, vector_train)\n",
        "cs_test = cosine_similarity(vector_test, vector_train)"
      ],
      "metadata": {
        "id": "eGudxkOYjnos"
      },
      "execution_count": 23,
      "outputs": []
    },
    {
      "cell_type": "code",
      "source": [
        "# 20NG KNN Train\n",
        "target = 0\n",
        "for i in range(len(train.data)):\n",
        "  neighbors = np.argsort(cs_train[i])[:-7:-1].tolist()\n",
        "  labels = train.target[neighbors].tolist()\n",
        "  n_top = max(labels, key = labels.count)\n",
        "  y = train.target[i]\n",
        "  if y == n_top:\n",
        "    target += 1\n",
        "accuracy = target/len(train.target)\n",
        "print(\"Training accuracy(n=6)\", accuracy)"
      ],
      "metadata": {
        "id": "SEzRN8toouQv",
        "colab": {
          "base_uri": "https://localhost:8080/"
        },
        "outputId": "cd6a69b5-3e93-4a9b-8863-9badf3939ced"
      },
      "execution_count": 24,
      "outputs": [
        {
          "output_type": "stream",
          "name": "stdout",
          "text": [
            "Training accuracy(n=6) 0.9223970302280361\n"
          ]
        }
      ]
    },
    {
      "cell_type": "code",
      "source": [
        "# 20NG KNN Test\n",
        "target = 0\n",
        "for i in range(len(test.data)):\n",
        "  neighbors = np.argsort(cs_test[i])[:-7:-1].tolist()\n",
        "  labels = train.target[neighbors].tolist()\n",
        "  n_top = max(labels, key = labels.count)\n",
        "  y = test.target[i]\n",
        "  if y == n_top:\n",
        "    target += 1\n",
        "accuracy = target/len(test.target)\n",
        "print(\"Test accuracy(n=6)\", accuracy)"
      ],
      "metadata": {
        "id": "AXTiU_DdqHhC",
        "colab": {
          "base_uri": "https://localhost:8080/"
        },
        "outputId": "303f9a6b-2429-4c60-f245-3886642c3571"
      },
      "execution_count": 25,
      "outputs": [
        {
          "output_type": "stream",
          "name": "stdout",
          "text": [
            "Test accuracy(n=6) 0.733271375464684\n"
          ]
        }
      ]
    },
    {
      "cell_type": "code",
      "source": [
        ""
      ],
      "metadata": {
        "id": "LFas7VOkq_Pt"
      },
      "execution_count": null,
      "outputs": []
    }
  ]
}